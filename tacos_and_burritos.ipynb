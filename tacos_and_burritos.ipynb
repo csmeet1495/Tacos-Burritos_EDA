{
 "cells": [
  {
   "cell_type": "markdown",
   "metadata": {},
   "source": [
    "### Loading Data"
   ]
  },
  {
   "cell_type": "code",
   "execution_count": 1,
   "metadata": {},
   "outputs": [],
   "source": [
    "#importing libraries\n",
    "\n",
    "import pandas as pd\n",
    "import numpy as np\n",
    "import matplotlib.pyplot as plt\n",
    "import seaborn as sns\n",
    "%matplotlib inline"
   ]
  },
  {
   "cell_type": "code",
   "execution_count": 2,
   "metadata": {},
   "outputs": [
    {
     "data": {
      "text/html": [
       "<div>\n",
       "<style scoped>\n",
       "    .dataframe tbody tr th:only-of-type {\n",
       "        vertical-align: middle;\n",
       "    }\n",
       "\n",
       "    .dataframe tbody tr th {\n",
       "        vertical-align: top;\n",
       "    }\n",
       "\n",
       "    .dataframe thead th {\n",
       "        text-align: right;\n",
       "    }\n",
       "</style>\n",
       "<table border=\"1\" class=\"dataframe\">\n",
       "  <thead>\n",
       "    <tr style=\"text-align: right;\">\n",
       "      <th></th>\n",
       "      <th>id</th>\n",
       "      <th>address</th>\n",
       "      <th>categories</th>\n",
       "      <th>city</th>\n",
       "      <th>country</th>\n",
       "      <th>cuisines</th>\n",
       "      <th>dateAdded</th>\n",
       "      <th>dateUpdated</th>\n",
       "      <th>keys</th>\n",
       "      <th>latitude</th>\n",
       "      <th>...</th>\n",
       "      <th>Unnamed: 226</th>\n",
       "      <th>Unnamed: 227</th>\n",
       "      <th>Unnamed: 228</th>\n",
       "      <th>Unnamed: 229</th>\n",
       "      <th>Unnamed: 230</th>\n",
       "      <th>Unnamed: 231</th>\n",
       "      <th>Unnamed: 232</th>\n",
       "      <th>Unnamed: 233</th>\n",
       "      <th>Unnamed: 234</th>\n",
       "      <th>Unnamed: 235</th>\n",
       "    </tr>\n",
       "  </thead>\n",
       "  <tbody>\n",
       "    <tr>\n",
       "      <th>0</th>\n",
       "      <td>AVwc__cikufWRAb51QjV</td>\n",
       "      <td>610 Commercial St</td>\n",
       "      <td>Restaurant Delivery Service,Restaurants,Pizza,...</td>\n",
       "      <td>Atchison</td>\n",
       "      <td>US</td>\n",
       "      <td>Restaurant Delivery Service</td>\n",
       "      <td>2016-03-02T11:49:34Z</td>\n",
       "      <td>2017-02-01T18:04:44Z</td>\n",
       "      <td>us/ks/atchison/610commercialst/-138126000</td>\n",
       "      <td>39.561570</td>\n",
       "      <td>...</td>\n",
       "      <td>NaN</td>\n",
       "      <td>NaN</td>\n",
       "      <td>NaN</td>\n",
       "      <td>NaN</td>\n",
       "      <td>NaN</td>\n",
       "      <td>NaN</td>\n",
       "      <td>NaN</td>\n",
       "      <td>NaN</td>\n",
       "      <td>NaN</td>\n",
       "      <td>NaN</td>\n",
       "    </tr>\n",
       "    <tr>\n",
       "      <th>1</th>\n",
       "      <td>AVwc__cikufWRAb51QjV</td>\n",
       "      <td>610 Commercial St</td>\n",
       "      <td>Restaurant Delivery Service,Restaurants,Pizza,...</td>\n",
       "      <td>Atchison</td>\n",
       "      <td>US</td>\n",
       "      <td>Restaurant Delivery Service</td>\n",
       "      <td>2016-03-02T11:49:34Z</td>\n",
       "      <td>2017-02-01T18:04:44Z</td>\n",
       "      <td>us/ks/atchison/610commercialst/-138126000</td>\n",
       "      <td>39.561570</td>\n",
       "      <td>...</td>\n",
       "      <td>NaN</td>\n",
       "      <td>NaN</td>\n",
       "      <td>NaN</td>\n",
       "      <td>NaN</td>\n",
       "      <td>NaN</td>\n",
       "      <td>NaN</td>\n",
       "      <td>NaN</td>\n",
       "      <td>NaN</td>\n",
       "      <td>NaN</td>\n",
       "      <td>NaN</td>\n",
       "    </tr>\n",
       "    <tr>\n",
       "      <th>2</th>\n",
       "      <td>AVwc__dF_7pvs4fz1Ncy</td>\n",
       "      <td>9521 Morton Davis Dr</td>\n",
       "      <td>Golf Course, American Restaurant, and Resort</td>\n",
       "      <td>Patterson</td>\n",
       "      <td>US</td>\n",
       "      <td>NaN</td>\n",
       "      <td>2016-10-14T01:58:25Z</td>\n",
       "      <td>2016-10-14T01:58:25Z</td>\n",
       "      <td>us/grayson/patterson/9521mortondavisdr/-522005016</td>\n",
       "      <td>37.401855</td>\n",
       "      <td>...</td>\n",
       "      <td>NaN</td>\n",
       "      <td>NaN</td>\n",
       "      <td>NaN</td>\n",
       "      <td>NaN</td>\n",
       "      <td>NaN</td>\n",
       "      <td>NaN</td>\n",
       "      <td>NaN</td>\n",
       "      <td>NaN</td>\n",
       "      <td>NaN</td>\n",
       "      <td>NaN</td>\n",
       "    </tr>\n",
       "    <tr>\n",
       "      <th>3</th>\n",
       "      <td>AVwc__kCByjofQCxkdm-</td>\n",
       "      <td>10550 W I 25 Frontage Rd</td>\n",
       "      <td>Fast Food Restaurant</td>\n",
       "      <td>Longmont</td>\n",
       "      <td>US</td>\n",
       "      <td>NaN</td>\n",
       "      <td>2016-09-09T17:30:34Z</td>\n",
       "      <td>2016-10-04T05:15:17Z</td>\n",
       "      <td>us/niwot/longmont/10550wi25frontagerd/-1161002137</td>\n",
       "      <td>NaN</td>\n",
       "      <td>...</td>\n",
       "      <td>NaN</td>\n",
       "      <td>NaN</td>\n",
       "      <td>NaN</td>\n",
       "      <td>NaN</td>\n",
       "      <td>NaN</td>\n",
       "      <td>NaN</td>\n",
       "      <td>NaN</td>\n",
       "      <td>NaN</td>\n",
       "      <td>NaN</td>\n",
       "      <td>NaN</td>\n",
       "    </tr>\n",
       "    <tr>\n",
       "      <th>4</th>\n",
       "      <td>AVwc__WtByjofQCxkdkR</td>\n",
       "      <td>8495 W 3rd St</td>\n",
       "      <td>Mexican Restaurant Mid-City West,Mexican Resta...</td>\n",
       "      <td>Los Angeles</td>\n",
       "      <td>US</td>\n",
       "      <td>Mexican</td>\n",
       "      <td>2016-05-19T11:50:25Z</td>\n",
       "      <td>2016-09-11T00:06:37Z</td>\n",
       "      <td>us/bicentennial/losangeles/8495w3rdst/-251199537</td>\n",
       "      <td>34.080724</td>\n",
       "      <td>...</td>\n",
       "      <td>NaN</td>\n",
       "      <td>NaN</td>\n",
       "      <td>NaN</td>\n",
       "      <td>NaN</td>\n",
       "      <td>NaN</td>\n",
       "      <td>NaN</td>\n",
       "      <td>NaN</td>\n",
       "      <td>NaN</td>\n",
       "      <td>NaN</td>\n",
       "      <td>NaN</td>\n",
       "    </tr>\n",
       "  </tbody>\n",
       "</table>\n",
       "<p>5 rows × 236 columns</p>\n",
       "</div>"
      ],
      "text/plain": [
       "                     id                   address  \\\n",
       "0  AVwc__cikufWRAb51QjV         610 Commercial St   \n",
       "1  AVwc__cikufWRAb51QjV         610 Commercial St   \n",
       "2  AVwc__dF_7pvs4fz1Ncy      9521 Morton Davis Dr   \n",
       "3  AVwc__kCByjofQCxkdm-  10550 W I 25 Frontage Rd   \n",
       "4  AVwc__WtByjofQCxkdkR             8495 W 3rd St   \n",
       "\n",
       "                                          categories         city country  \\\n",
       "0  Restaurant Delivery Service,Restaurants,Pizza,...     Atchison      US   \n",
       "1  Restaurant Delivery Service,Restaurants,Pizza,...     Atchison      US   \n",
       "2       Golf Course, American Restaurant, and Resort    Patterson      US   \n",
       "3                               Fast Food Restaurant     Longmont      US   \n",
       "4  Mexican Restaurant Mid-City West,Mexican Resta...  Los Angeles      US   \n",
       "\n",
       "                      cuisines             dateAdded           dateUpdated  \\\n",
       "0  Restaurant Delivery Service  2016-03-02T11:49:34Z  2017-02-01T18:04:44Z   \n",
       "1  Restaurant Delivery Service  2016-03-02T11:49:34Z  2017-02-01T18:04:44Z   \n",
       "2                          NaN  2016-10-14T01:58:25Z  2016-10-14T01:58:25Z   \n",
       "3                          NaN  2016-09-09T17:30:34Z  2016-10-04T05:15:17Z   \n",
       "4                      Mexican  2016-05-19T11:50:25Z  2016-09-11T00:06:37Z   \n",
       "\n",
       "                                                keys   latitude  ...  \\\n",
       "0          us/ks/atchison/610commercialst/-138126000  39.561570  ...   \n",
       "1          us/ks/atchison/610commercialst/-138126000  39.561570  ...   \n",
       "2  us/grayson/patterson/9521mortondavisdr/-522005016  37.401855  ...   \n",
       "3  us/niwot/longmont/10550wi25frontagerd/-1161002137        NaN  ...   \n",
       "4   us/bicentennial/losangeles/8495w3rdst/-251199537  34.080724  ...   \n",
       "\n",
       "   Unnamed: 226 Unnamed: 227  Unnamed: 228  Unnamed: 229 Unnamed: 230  \\\n",
       "0           NaN          NaN           NaN           NaN          NaN   \n",
       "1           NaN          NaN           NaN           NaN          NaN   \n",
       "2           NaN          NaN           NaN           NaN          NaN   \n",
       "3           NaN          NaN           NaN           NaN          NaN   \n",
       "4           NaN          NaN           NaN           NaN          NaN   \n",
       "\n",
       "  Unnamed: 231 Unnamed: 232 Unnamed: 233 Unnamed: 234 Unnamed: 235  \n",
       "0          NaN          NaN          NaN          NaN          NaN  \n",
       "1          NaN          NaN          NaN          NaN          NaN  \n",
       "2          NaN          NaN          NaN          NaN          NaN  \n",
       "3          NaN          NaN          NaN          NaN          NaN  \n",
       "4          NaN          NaN          NaN          NaN          NaN  \n",
       "\n",
       "[5 rows x 236 columns]"
      ]
     },
     "execution_count": 2,
     "metadata": {},
     "output_type": "execute_result"
    }
   ],
   "source": [
    "#loading data\n",
    "\n",
    "tacos_burritos_df = pd.read_csv('tacos_and_burritos.csv', sep=',')\n",
    "\n",
    "tacos_burritos_df.head()"
   ]
  },
  {
   "cell_type": "code",
   "execution_count": 3,
   "metadata": {},
   "outputs": [
    {
     "data": {
      "text/html": [
       "<div>\n",
       "<style scoped>\n",
       "    .dataframe tbody tr th:only-of-type {\n",
       "        vertical-align: middle;\n",
       "    }\n",
       "\n",
       "    .dataframe tbody tr th {\n",
       "        vertical-align: top;\n",
       "    }\n",
       "\n",
       "    .dataframe thead th {\n",
       "        text-align: right;\n",
       "    }\n",
       "</style>\n",
       "<table border=\"1\" class=\"dataframe\">\n",
       "  <thead>\n",
       "    <tr style=\"text-align: right;\">\n",
       "      <th></th>\n",
       "      <th>id</th>\n",
       "      <th>address</th>\n",
       "      <th>categories</th>\n",
       "      <th>city</th>\n",
       "      <th>country</th>\n",
       "      <th>cuisines</th>\n",
       "      <th>dateAdded</th>\n",
       "      <th>dateUpdated</th>\n",
       "      <th>keys</th>\n",
       "      <th>latitude</th>\n",
       "      <th>...</th>\n",
       "      <th>Unnamed: 226</th>\n",
       "      <th>Unnamed: 227</th>\n",
       "      <th>Unnamed: 228</th>\n",
       "      <th>Unnamed: 229</th>\n",
       "      <th>Unnamed: 230</th>\n",
       "      <th>Unnamed: 231</th>\n",
       "      <th>Unnamed: 232</th>\n",
       "      <th>Unnamed: 233</th>\n",
       "      <th>Unnamed: 234</th>\n",
       "      <th>Unnamed: 235</th>\n",
       "    </tr>\n",
       "  </thead>\n",
       "  <tbody>\n",
       "    <tr>\n",
       "      <th>77255</th>\n",
       "      <td>AVzRLlQNLD2H7whiWdH_</td>\n",
       "      <td>3919 24th St.</td>\n",
       "      <td>Restaurant</td>\n",
       "      <td>San Francisco</td>\n",
       "      <td>US</td>\n",
       "      <td>Mexican</td>\n",
       "      <td>2017-06-22T19:01:33Z</td>\n",
       "      <td>2017-06-22T19:01:33Z</td>\n",
       "      <td>us/california/sanfrancisco/391924thst/-62682760</td>\n",
       "      <td>37.751392</td>\n",
       "      <td>...</td>\n",
       "      <td>NaN</td>\n",
       "      <td>NaN</td>\n",
       "      <td>NaN</td>\n",
       "      <td>NaN</td>\n",
       "      <td>NaN</td>\n",
       "      <td>NaN</td>\n",
       "      <td>NaN</td>\n",
       "      <td>NaN</td>\n",
       "      <td>NaN</td>\n",
       "      <td>NaN</td>\n",
       "    </tr>\n",
       "    <tr>\n",
       "      <th>77256</th>\n",
       "      <td>AVzRLlQNLD2H7whiWdH_</td>\n",
       "      <td>3919 24th St.</td>\n",
       "      <td>Restaurant</td>\n",
       "      <td>San Francisco</td>\n",
       "      <td>US</td>\n",
       "      <td>Mexican</td>\n",
       "      <td>2017-06-22T19:01:33Z</td>\n",
       "      <td>2017-06-22T19:01:33Z</td>\n",
       "      <td>us/california/sanfrancisco/391924thst/-62682760</td>\n",
       "      <td>37.751392</td>\n",
       "      <td>...</td>\n",
       "      <td>NaN</td>\n",
       "      <td>NaN</td>\n",
       "      <td>NaN</td>\n",
       "      <td>NaN</td>\n",
       "      <td>NaN</td>\n",
       "      <td>NaN</td>\n",
       "      <td>NaN</td>\n",
       "      <td>NaN</td>\n",
       "      <td>NaN</td>\n",
       "      <td>NaN</td>\n",
       "    </tr>\n",
       "    <tr>\n",
       "      <th>77257</th>\n",
       "      <td>AVzRLlQNLD2H7whiWdH_</td>\n",
       "      <td>3919 24th St.</td>\n",
       "      <td>Restaurant</td>\n",
       "      <td>San Francisco</td>\n",
       "      <td>US</td>\n",
       "      <td>Mexican</td>\n",
       "      <td>2017-06-22T19:01:33Z</td>\n",
       "      <td>2017-06-22T19:01:33Z</td>\n",
       "      <td>us/california/sanfrancisco/391924thst/-62682760</td>\n",
       "      <td>37.751392</td>\n",
       "      <td>...</td>\n",
       "      <td>NaN</td>\n",
       "      <td>NaN</td>\n",
       "      <td>NaN</td>\n",
       "      <td>NaN</td>\n",
       "      <td>NaN</td>\n",
       "      <td>NaN</td>\n",
       "      <td>NaN</td>\n",
       "      <td>NaN</td>\n",
       "      <td>NaN</td>\n",
       "      <td>NaN</td>\n",
       "    </tr>\n",
       "    <tr>\n",
       "      <th>77258</th>\n",
       "      <td>AVzRLlQNLD2H7whiWdH_</td>\n",
       "      <td>3919 24th St.</td>\n",
       "      <td>Restaurant</td>\n",
       "      <td>San Francisco</td>\n",
       "      <td>US</td>\n",
       "      <td>Mexican</td>\n",
       "      <td>2017-06-22T19:01:33Z</td>\n",
       "      <td>2017-06-22T19:01:33Z</td>\n",
       "      <td>us/california/sanfrancisco/391924thst/-62682760</td>\n",
       "      <td>37.751392</td>\n",
       "      <td>...</td>\n",
       "      <td>NaN</td>\n",
       "      <td>NaN</td>\n",
       "      <td>NaN</td>\n",
       "      <td>NaN</td>\n",
       "      <td>NaN</td>\n",
       "      <td>NaN</td>\n",
       "      <td>NaN</td>\n",
       "      <td>NaN</td>\n",
       "      <td>NaN</td>\n",
       "      <td>NaN</td>\n",
       "    </tr>\n",
       "    <tr>\n",
       "      <th>77259</th>\n",
       "      <td>AVzRLlQNLD2H7whiWdH_</td>\n",
       "      <td>3919 24th St.</td>\n",
       "      <td>Restaurant</td>\n",
       "      <td>San Francisco</td>\n",
       "      <td>US</td>\n",
       "      <td>Mexican</td>\n",
       "      <td>2017-06-22T19:01:33Z</td>\n",
       "      <td>2017-06-22T19:01:33Z</td>\n",
       "      <td>us/california/sanfrancisco/391924thst/-62682760</td>\n",
       "      <td>37.751392</td>\n",
       "      <td>...</td>\n",
       "      <td>NaN</td>\n",
       "      <td>NaN</td>\n",
       "      <td>NaN</td>\n",
       "      <td>NaN</td>\n",
       "      <td>NaN</td>\n",
       "      <td>NaN</td>\n",
       "      <td>NaN</td>\n",
       "      <td>NaN</td>\n",
       "      <td>NaN</td>\n",
       "      <td>NaN</td>\n",
       "    </tr>\n",
       "  </tbody>\n",
       "</table>\n",
       "<p>5 rows × 236 columns</p>\n",
       "</div>"
      ],
      "text/plain": [
       "                         id        address  categories           city country  \\\n",
       "77255  AVzRLlQNLD2H7whiWdH_  3919 24th St.  Restaurant  San Francisco      US   \n",
       "77256  AVzRLlQNLD2H7whiWdH_  3919 24th St.  Restaurant  San Francisco      US   \n",
       "77257  AVzRLlQNLD2H7whiWdH_  3919 24th St.  Restaurant  San Francisco      US   \n",
       "77258  AVzRLlQNLD2H7whiWdH_  3919 24th St.  Restaurant  San Francisco      US   \n",
       "77259  AVzRLlQNLD2H7whiWdH_  3919 24th St.  Restaurant  San Francisco      US   \n",
       "\n",
       "      cuisines             dateAdded           dateUpdated  \\\n",
       "77255  Mexican  2017-06-22T19:01:33Z  2017-06-22T19:01:33Z   \n",
       "77256  Mexican  2017-06-22T19:01:33Z  2017-06-22T19:01:33Z   \n",
       "77257  Mexican  2017-06-22T19:01:33Z  2017-06-22T19:01:33Z   \n",
       "77258  Mexican  2017-06-22T19:01:33Z  2017-06-22T19:01:33Z   \n",
       "77259  Mexican  2017-06-22T19:01:33Z  2017-06-22T19:01:33Z   \n",
       "\n",
       "                                                  keys   latitude  ...  \\\n",
       "77255  us/california/sanfrancisco/391924thst/-62682760  37.751392  ...   \n",
       "77256  us/california/sanfrancisco/391924thst/-62682760  37.751392  ...   \n",
       "77257  us/california/sanfrancisco/391924thst/-62682760  37.751392  ...   \n",
       "77258  us/california/sanfrancisco/391924thst/-62682760  37.751392  ...   \n",
       "77259  us/california/sanfrancisco/391924thst/-62682760  37.751392  ...   \n",
       "\n",
       "       Unnamed: 226 Unnamed: 227  Unnamed: 228  Unnamed: 229 Unnamed: 230  \\\n",
       "77255           NaN          NaN           NaN           NaN          NaN   \n",
       "77256           NaN          NaN           NaN           NaN          NaN   \n",
       "77257           NaN          NaN           NaN           NaN          NaN   \n",
       "77258           NaN          NaN           NaN           NaN          NaN   \n",
       "77259           NaN          NaN           NaN           NaN          NaN   \n",
       "\n",
       "      Unnamed: 231 Unnamed: 232 Unnamed: 233 Unnamed: 234 Unnamed: 235  \n",
       "77255          NaN          NaN          NaN          NaN          NaN  \n",
       "77256          NaN          NaN          NaN          NaN          NaN  \n",
       "77257          NaN          NaN          NaN          NaN          NaN  \n",
       "77258          NaN          NaN          NaN          NaN          NaN  \n",
       "77259          NaN          NaN          NaN          NaN          NaN  \n",
       "\n",
       "[5 rows x 236 columns]"
      ]
     },
     "execution_count": 3,
     "metadata": {},
     "output_type": "execute_result"
    }
   ],
   "source": [
    "tacos_burritos_df.tail()"
   ]
  },
  {
   "cell_type": "markdown",
   "metadata": {},
   "source": [
    "### Investigating Data"
   ]
  },
  {
   "cell_type": "code",
   "execution_count": 4,
   "metadata": {},
   "outputs": [
    {
     "data": {
      "text/plain": [
       "(77260, 236)"
      ]
     },
     "execution_count": 4,
     "metadata": {},
     "output_type": "execute_result"
    }
   ],
   "source": [
    "tacos_burritos_df.shape"
   ]
  },
  {
   "cell_type": "markdown",
   "metadata": {},
   "source": [
    "The tacos and burritos data has 77260 rows and 236 columns, but you can see from the above table that a lot of those columns are Unnamed and contain NaN values which is not required. So, we can drop those columns in Data Cleaning step."
   ]
  },
  {
   "cell_type": "code",
   "execution_count": 5,
   "metadata": {},
   "outputs": [
    {
     "data": {
      "text/plain": [
       "Index(['id', 'address', 'categories', 'city', 'country', 'cuisines',\n",
       "       'dateAdded', 'dateUpdated', 'keys', 'latitude',\n",
       "       ...\n",
       "       'Unnamed: 226', 'Unnamed: 227', 'Unnamed: 228', 'Unnamed: 229',\n",
       "       'Unnamed: 230', 'Unnamed: 231', 'Unnamed: 232', 'Unnamed: 233',\n",
       "       'Unnamed: 234', 'Unnamed: 235'],\n",
       "      dtype='object', length=236)"
      ]
     },
     "execution_count": 5,
     "metadata": {},
     "output_type": "execute_result"
    }
   ],
   "source": [
    "tacos_burritos_df.columns"
   ]
  },
  {
   "cell_type": "code",
   "execution_count": 6,
   "metadata": {},
   "outputs": [
    {
     "name": "stdout",
     "output_type": "stream",
     "text": [
      "<class 'pandas.core.frame.DataFrame'>\n",
      "RangeIndex: 77260 entries, 0 to 77259\n",
      "Columns: 236 entries, id to Unnamed: 235\n",
      "dtypes: float64(216), object(20)\n",
      "memory usage: 139.1+ MB\n"
     ]
    }
   ],
   "source": [
    "tacos_burritos_df.info()"
   ]
  },
  {
   "cell_type": "code",
   "execution_count": 7,
   "metadata": {},
   "outputs": [
    {
     "data": {
      "text/html": [
       "<div>\n",
       "<style scoped>\n",
       "    .dataframe tbody tr th:only-of-type {\n",
       "        vertical-align: middle;\n",
       "    }\n",
       "\n",
       "    .dataframe tbody tr th {\n",
       "        vertical-align: top;\n",
       "    }\n",
       "\n",
       "    .dataframe thead th {\n",
       "        text-align: right;\n",
       "    }\n",
       "</style>\n",
       "<table border=\"1\" class=\"dataframe\">\n",
       "  <thead>\n",
       "    <tr style=\"text-align: right;\">\n",
       "      <th></th>\n",
       "      <th>latitude</th>\n",
       "      <th>longitude</th>\n",
       "      <th>menus.amountMax</th>\n",
       "      <th>menus.amountMin</th>\n",
       "      <th>priceRangeMin</th>\n",
       "      <th>priceRangeMax</th>\n",
       "      <th>Unnamed: 26</th>\n",
       "      <th>Unnamed: 27</th>\n",
       "      <th>Unnamed: 28</th>\n",
       "      <th>Unnamed: 29</th>\n",
       "      <th>...</th>\n",
       "      <th>Unnamed: 226</th>\n",
       "      <th>Unnamed: 227</th>\n",
       "      <th>Unnamed: 228</th>\n",
       "      <th>Unnamed: 229</th>\n",
       "      <th>Unnamed: 230</th>\n",
       "      <th>Unnamed: 231</th>\n",
       "      <th>Unnamed: 232</th>\n",
       "      <th>Unnamed: 233</th>\n",
       "      <th>Unnamed: 234</th>\n",
       "      <th>Unnamed: 235</th>\n",
       "    </tr>\n",
       "  </thead>\n",
       "  <tbody>\n",
       "    <tr>\n",
       "      <th>count</th>\n",
       "      <td>55636.000000</td>\n",
       "      <td>55636.000000</td>\n",
       "      <td>40260.000000</td>\n",
       "      <td>40260.000000</td>\n",
       "      <td>48159.000000</td>\n",
       "      <td>48159.000000</td>\n",
       "      <td>0.0</td>\n",
       "      <td>0.0</td>\n",
       "      <td>0.0</td>\n",
       "      <td>0.0</td>\n",
       "      <td>...</td>\n",
       "      <td>0.0</td>\n",
       "      <td>0.0</td>\n",
       "      <td>0.0</td>\n",
       "      <td>0.0</td>\n",
       "      <td>0.0</td>\n",
       "      <td>0.0</td>\n",
       "      <td>0.0</td>\n",
       "      <td>0.0</td>\n",
       "      <td>0.0</td>\n",
       "      <td>0.0</td>\n",
       "    </tr>\n",
       "    <tr>\n",
       "      <th>mean</th>\n",
       "      <td>36.694846</td>\n",
       "      <td>-98.713309</td>\n",
       "      <td>8.754767</td>\n",
       "      <td>8.611666</td>\n",
       "      <td>13.734837</td>\n",
       "      <td>33.722627</td>\n",
       "      <td>NaN</td>\n",
       "      <td>NaN</td>\n",
       "      <td>NaN</td>\n",
       "      <td>NaN</td>\n",
       "      <td>...</td>\n",
       "      <td>NaN</td>\n",
       "      <td>NaN</td>\n",
       "      <td>NaN</td>\n",
       "      <td>NaN</td>\n",
       "      <td>NaN</td>\n",
       "      <td>NaN</td>\n",
       "      <td>NaN</td>\n",
       "      <td>NaN</td>\n",
       "      <td>NaN</td>\n",
       "      <td>NaN</td>\n",
       "    </tr>\n",
       "    <tr>\n",
       "      <th>std</th>\n",
       "      <td>4.835124</td>\n",
       "      <td>18.245857</td>\n",
       "      <td>18.408596</td>\n",
       "      <td>15.708317</td>\n",
       "      <td>14.704344</td>\n",
       "      <td>10.395812</td>\n",
       "      <td>NaN</td>\n",
       "      <td>NaN</td>\n",
       "      <td>NaN</td>\n",
       "      <td>NaN</td>\n",
       "      <td>...</td>\n",
       "      <td>NaN</td>\n",
       "      <td>NaN</td>\n",
       "      <td>NaN</td>\n",
       "      <td>NaN</td>\n",
       "      <td>NaN</td>\n",
       "      <td>NaN</td>\n",
       "      <td>NaN</td>\n",
       "      <td>NaN</td>\n",
       "      <td>NaN</td>\n",
       "      <td>NaN</td>\n",
       "    </tr>\n",
       "    <tr>\n",
       "      <th>min</th>\n",
       "      <td>-31.986438</td>\n",
       "      <td>-159.492690</td>\n",
       "      <td>0.000000</td>\n",
       "      <td>0.000000</td>\n",
       "      <td>0.000000</td>\n",
       "      <td>5.000000</td>\n",
       "      <td>NaN</td>\n",
       "      <td>NaN</td>\n",
       "      <td>NaN</td>\n",
       "      <td>NaN</td>\n",
       "      <td>...</td>\n",
       "      <td>NaN</td>\n",
       "      <td>NaN</td>\n",
       "      <td>NaN</td>\n",
       "      <td>NaN</td>\n",
       "      <td>NaN</td>\n",
       "      <td>NaN</td>\n",
       "      <td>NaN</td>\n",
       "      <td>NaN</td>\n",
       "      <td>NaN</td>\n",
       "      <td>NaN</td>\n",
       "    </tr>\n",
       "    <tr>\n",
       "      <th>25%</th>\n",
       "      <td>33.668355</td>\n",
       "      <td>-117.647150</td>\n",
       "      <td>5.000000</td>\n",
       "      <td>5.000000</td>\n",
       "      <td>0.000000</td>\n",
       "      <td>25.000000</td>\n",
       "      <td>NaN</td>\n",
       "      <td>NaN</td>\n",
       "      <td>NaN</td>\n",
       "      <td>NaN</td>\n",
       "      <td>...</td>\n",
       "      <td>NaN</td>\n",
       "      <td>NaN</td>\n",
       "      <td>NaN</td>\n",
       "      <td>NaN</td>\n",
       "      <td>NaN</td>\n",
       "      <td>NaN</td>\n",
       "      <td>NaN</td>\n",
       "      <td>NaN</td>\n",
       "      <td>NaN</td>\n",
       "      <td>NaN</td>\n",
       "    </tr>\n",
       "    <tr>\n",
       "      <th>50%</th>\n",
       "      <td>36.047195</td>\n",
       "      <td>-96.682320</td>\n",
       "      <td>7.950000</td>\n",
       "      <td>7.950000</td>\n",
       "      <td>25.000000</td>\n",
       "      <td>40.000000</td>\n",
       "      <td>NaN</td>\n",
       "      <td>NaN</td>\n",
       "      <td>NaN</td>\n",
       "      <td>NaN</td>\n",
       "      <td>...</td>\n",
       "      <td>NaN</td>\n",
       "      <td>NaN</td>\n",
       "      <td>NaN</td>\n",
       "      <td>NaN</td>\n",
       "      <td>NaN</td>\n",
       "      <td>NaN</td>\n",
       "      <td>NaN</td>\n",
       "      <td>NaN</td>\n",
       "      <td>NaN</td>\n",
       "      <td>NaN</td>\n",
       "    </tr>\n",
       "    <tr>\n",
       "      <th>75%</th>\n",
       "      <td>40.588380</td>\n",
       "      <td>-82.679930</td>\n",
       "      <td>10.500000</td>\n",
       "      <td>10.390000</td>\n",
       "      <td>25.000000</td>\n",
       "      <td>40.000000</td>\n",
       "      <td>NaN</td>\n",
       "      <td>NaN</td>\n",
       "      <td>NaN</td>\n",
       "      <td>NaN</td>\n",
       "      <td>...</td>\n",
       "      <td>NaN</td>\n",
       "      <td>NaN</td>\n",
       "      <td>NaN</td>\n",
       "      <td>NaN</td>\n",
       "      <td>NaN</td>\n",
       "      <td>NaN</td>\n",
       "      <td>NaN</td>\n",
       "      <td>NaN</td>\n",
       "      <td>NaN</td>\n",
       "      <td>NaN</td>\n",
       "    </tr>\n",
       "    <tr>\n",
       "      <th>max</th>\n",
       "      <td>61.219460</td>\n",
       "      <td>115.903696</td>\n",
       "      <td>1990.000000</td>\n",
       "      <td>1290.000000</td>\n",
       "      <td>378.000000</td>\n",
       "      <td>755.000000</td>\n",
       "      <td>NaN</td>\n",
       "      <td>NaN</td>\n",
       "      <td>NaN</td>\n",
       "      <td>NaN</td>\n",
       "      <td>...</td>\n",
       "      <td>NaN</td>\n",
       "      <td>NaN</td>\n",
       "      <td>NaN</td>\n",
       "      <td>NaN</td>\n",
       "      <td>NaN</td>\n",
       "      <td>NaN</td>\n",
       "      <td>NaN</td>\n",
       "      <td>NaN</td>\n",
       "      <td>NaN</td>\n",
       "      <td>NaN</td>\n",
       "    </tr>\n",
       "  </tbody>\n",
       "</table>\n",
       "<p>8 rows × 216 columns</p>\n",
       "</div>"
      ],
      "text/plain": [
       "           latitude     longitude  menus.amountMax  menus.amountMin  \\\n",
       "count  55636.000000  55636.000000     40260.000000     40260.000000   \n",
       "mean      36.694846    -98.713309         8.754767         8.611666   \n",
       "std        4.835124     18.245857        18.408596        15.708317   \n",
       "min      -31.986438   -159.492690         0.000000         0.000000   \n",
       "25%       33.668355   -117.647150         5.000000         5.000000   \n",
       "50%       36.047195    -96.682320         7.950000         7.950000   \n",
       "75%       40.588380    -82.679930        10.500000        10.390000   \n",
       "max       61.219460    115.903696      1990.000000      1290.000000   \n",
       "\n",
       "       priceRangeMin  priceRangeMax  Unnamed: 26  Unnamed: 27  Unnamed: 28  \\\n",
       "count   48159.000000   48159.000000          0.0          0.0          0.0   \n",
       "mean       13.734837      33.722627          NaN          NaN          NaN   \n",
       "std        14.704344      10.395812          NaN          NaN          NaN   \n",
       "min         0.000000       5.000000          NaN          NaN          NaN   \n",
       "25%         0.000000      25.000000          NaN          NaN          NaN   \n",
       "50%        25.000000      40.000000          NaN          NaN          NaN   \n",
       "75%        25.000000      40.000000          NaN          NaN          NaN   \n",
       "max       378.000000     755.000000          NaN          NaN          NaN   \n",
       "\n",
       "       Unnamed: 29  ...  Unnamed: 226  Unnamed: 227  Unnamed: 228  \\\n",
       "count          0.0  ...           0.0           0.0           0.0   \n",
       "mean           NaN  ...           NaN           NaN           NaN   \n",
       "std            NaN  ...           NaN           NaN           NaN   \n",
       "min            NaN  ...           NaN           NaN           NaN   \n",
       "25%            NaN  ...           NaN           NaN           NaN   \n",
       "50%            NaN  ...           NaN           NaN           NaN   \n",
       "75%            NaN  ...           NaN           NaN           NaN   \n",
       "max            NaN  ...           NaN           NaN           NaN   \n",
       "\n",
       "       Unnamed: 229  Unnamed: 230  Unnamed: 231  Unnamed: 232  Unnamed: 233  \\\n",
       "count           0.0           0.0           0.0           0.0           0.0   \n",
       "mean            NaN           NaN           NaN           NaN           NaN   \n",
       "std             NaN           NaN           NaN           NaN           NaN   \n",
       "min             NaN           NaN           NaN           NaN           NaN   \n",
       "25%             NaN           NaN           NaN           NaN           NaN   \n",
       "50%             NaN           NaN           NaN           NaN           NaN   \n",
       "75%             NaN           NaN           NaN           NaN           NaN   \n",
       "max             NaN           NaN           NaN           NaN           NaN   \n",
       "\n",
       "       Unnamed: 234  Unnamed: 235  \n",
       "count           0.0           0.0  \n",
       "mean            NaN           NaN  \n",
       "std             NaN           NaN  \n",
       "min             NaN           NaN  \n",
       "25%             NaN           NaN  \n",
       "50%             NaN           NaN  \n",
       "75%             NaN           NaN  \n",
       "max             NaN           NaN  \n",
       "\n",
       "[8 rows x 216 columns]"
      ]
     },
     "execution_count": 7,
     "metadata": {},
     "output_type": "execute_result"
    }
   ],
   "source": [
    "tacos_burritos_df.describe()"
   ]
  },
  {
   "cell_type": "markdown",
   "metadata": {},
   "source": [
    "#### Issues in Data\n",
    "\n",
    "1. Unnamed Columns with no data.\n",
    "2. Several columns not needed for Analysis & Visualizations.\n",
    "3. Delete columns having high NaN Values.\n",
    "4. Null values in some columns.\n",
    "5. Incorrect format for dateAdded, dateUpdated, menus.dateSeen columns\n",
    "6. Duplicate rows in data"
   ]
  },
  {
   "cell_type": "markdown",
   "metadata": {},
   "source": [
    "### Data Cleaning"
   ]
  },
  {
   "cell_type": "markdown",
   "metadata": {},
   "source": [
    "1. Unnamed columns with no data"
   ]
  },
  {
   "cell_type": "markdown",
   "metadata": {},
   "source": [
    "#### Define"
   ]
  },
  {
   "cell_type": "markdown",
   "metadata": {},
   "source": [
    "Drop Unnamed columns with no data"
   ]
  },
  {
   "cell_type": "markdown",
   "metadata": {},
   "source": [
    "#### Code"
   ]
  },
  {
   "cell_type": "code",
   "execution_count": 8,
   "metadata": {},
   "outputs": [
    {
     "data": {
      "text/html": [
       "<div>\n",
       "<style scoped>\n",
       "    .dataframe tbody tr th:only-of-type {\n",
       "        vertical-align: middle;\n",
       "    }\n",
       "\n",
       "    .dataframe tbody tr th {\n",
       "        vertical-align: top;\n",
       "    }\n",
       "\n",
       "    .dataframe thead th {\n",
       "        text-align: right;\n",
       "    }\n",
       "</style>\n",
       "<table border=\"1\" class=\"dataframe\">\n",
       "  <thead>\n",
       "    <tr style=\"text-align: right;\">\n",
       "      <th></th>\n",
       "      <th>id</th>\n",
       "      <th>address</th>\n",
       "      <th>categories</th>\n",
       "      <th>city</th>\n",
       "      <th>country</th>\n",
       "      <th>cuisines</th>\n",
       "      <th>dateAdded</th>\n",
       "      <th>dateUpdated</th>\n",
       "      <th>keys</th>\n",
       "      <th>latitude</th>\n",
       "      <th>...</th>\n",
       "      <th>menus.dateSeen</th>\n",
       "      <th>menus.description</th>\n",
       "      <th>menus.name</th>\n",
       "      <th>name</th>\n",
       "      <th>postalCode</th>\n",
       "      <th>priceRangeCurrency</th>\n",
       "      <th>priceRangeMin</th>\n",
       "      <th>priceRangeMax</th>\n",
       "      <th>province</th>\n",
       "      <th>websites</th>\n",
       "    </tr>\n",
       "  </thead>\n",
       "  <tbody>\n",
       "    <tr>\n",
       "      <th>0</th>\n",
       "      <td>AVwc__cikufWRAb51QjV</td>\n",
       "      <td>610 Commercial St</td>\n",
       "      <td>Restaurant Delivery Service,Restaurants,Pizza,...</td>\n",
       "      <td>Atchison</td>\n",
       "      <td>US</td>\n",
       "      <td>Restaurant Delivery Service</td>\n",
       "      <td>2016-03-02T11:49:34Z</td>\n",
       "      <td>2017-02-01T18:04:44Z</td>\n",
       "      <td>us/ks/atchison/610commercialst/-138126000</td>\n",
       "      <td>39.561570</td>\n",
       "      <td>...</td>\n",
       "      <td>2017-02-01T18:04:44Z</td>\n",
       "      <td>NaN</td>\n",
       "      <td>Taco</td>\n",
       "      <td>Gambino's Pizza</td>\n",
       "      <td>66002</td>\n",
       "      <td>NaN</td>\n",
       "      <td>NaN</td>\n",
       "      <td>NaN</td>\n",
       "      <td>KS</td>\n",
       "      <td>http://www.gambinospizza.com</td>\n",
       "    </tr>\n",
       "    <tr>\n",
       "      <th>1</th>\n",
       "      <td>AVwc__cikufWRAb51QjV</td>\n",
       "      <td>610 Commercial St</td>\n",
       "      <td>Restaurant Delivery Service,Restaurants,Pizza,...</td>\n",
       "      <td>Atchison</td>\n",
       "      <td>US</td>\n",
       "      <td>Restaurant Delivery Service</td>\n",
       "      <td>2016-03-02T11:49:34Z</td>\n",
       "      <td>2017-02-01T18:04:44Z</td>\n",
       "      <td>us/ks/atchison/610commercialst/-138126000</td>\n",
       "      <td>39.561570</td>\n",
       "      <td>...</td>\n",
       "      <td>2016-03-02T11:49:34Z</td>\n",
       "      <td>Beef, onion, cheddar cheese, lettuce,  refried...</td>\n",
       "      <td>Taco</td>\n",
       "      <td>Gambino's Pizza</td>\n",
       "      <td>66002</td>\n",
       "      <td>NaN</td>\n",
       "      <td>NaN</td>\n",
       "      <td>NaN</td>\n",
       "      <td>KS</td>\n",
       "      <td>http://www.gambinospizza.com</td>\n",
       "    </tr>\n",
       "    <tr>\n",
       "      <th>2</th>\n",
       "      <td>AVwc__dF_7pvs4fz1Ncy</td>\n",
       "      <td>9521 Morton Davis Dr</td>\n",
       "      <td>Golf Course, American Restaurant, and Resort</td>\n",
       "      <td>Patterson</td>\n",
       "      <td>US</td>\n",
       "      <td>NaN</td>\n",
       "      <td>2016-10-14T01:58:25Z</td>\n",
       "      <td>2016-10-14T01:58:25Z</td>\n",
       "      <td>us/grayson/patterson/9521mortondavisdr/-522005016</td>\n",
       "      <td>37.401855</td>\n",
       "      <td>...</td>\n",
       "      <td>2016-10-14T01:58:25Z</td>\n",
       "      <td>Beef barbacoa or chicken, spanish rice, pico d...</td>\n",
       "      <td>Smotherd Burrito</td>\n",
       "      <td>Diablo Grande Golf &amp; Country Club</td>\n",
       "      <td>95363</td>\n",
       "      <td>NaN</td>\n",
       "      <td>NaN</td>\n",
       "      <td>NaN</td>\n",
       "      <td>Grayson</td>\n",
       "      <td>http://www.diablogrande.com/</td>\n",
       "    </tr>\n",
       "    <tr>\n",
       "      <th>3</th>\n",
       "      <td>AVwc__kCByjofQCxkdm-</td>\n",
       "      <td>10550 W I 25 Frontage Rd</td>\n",
       "      <td>Fast Food Restaurant</td>\n",
       "      <td>Longmont</td>\n",
       "      <td>US</td>\n",
       "      <td>NaN</td>\n",
       "      <td>2016-09-09T17:30:34Z</td>\n",
       "      <td>2016-10-04T05:15:17Z</td>\n",
       "      <td>us/niwot/longmont/10550wi25frontagerd/-1161002137</td>\n",
       "      <td>NaN</td>\n",
       "      <td>...</td>\n",
       "      <td>2016-09-09T17:30:34Z</td>\n",
       "      <td>NaN</td>\n",
       "      <td>Sausage Burrito</td>\n",
       "      <td>Mcdonald's</td>\n",
       "      <td>80504</td>\n",
       "      <td>NaN</td>\n",
       "      <td>NaN</td>\n",
       "      <td>NaN</td>\n",
       "      <td>Niwot</td>\n",
       "      <td>http://mcdonalds.com</td>\n",
       "    </tr>\n",
       "    <tr>\n",
       "      <th>4</th>\n",
       "      <td>AVwc__WtByjofQCxkdkR</td>\n",
       "      <td>8495 W 3rd St</td>\n",
       "      <td>Mexican Restaurant Mid-City West,Mexican Resta...</td>\n",
       "      <td>Los Angeles</td>\n",
       "      <td>US</td>\n",
       "      <td>Mexican</td>\n",
       "      <td>2016-05-19T11:50:25Z</td>\n",
       "      <td>2016-09-11T00:06:37Z</td>\n",
       "      <td>us/bicentennial/losangeles/8495w3rdst/-251199537</td>\n",
       "      <td>34.080724</td>\n",
       "      <td>...</td>\n",
       "      <td>2016-05-19T11:50:25Z</td>\n",
       "      <td>Wahoo, avocado, cabbage, pico de gallo  and av...</td>\n",
       "      <td>Wahoo Tacogrilled</td>\n",
       "      <td>Baja Fresh Mexican Grill</td>\n",
       "      <td>90048</td>\n",
       "      <td>USD</td>\n",
       "      <td>0.0</td>\n",
       "      <td>25.0</td>\n",
       "      <td>Bicentennial</td>\n",
       "      <td>http://bajafresh.com</td>\n",
       "    </tr>\n",
       "  </tbody>\n",
       "</table>\n",
       "<p>5 rows × 26 columns</p>\n",
       "</div>"
      ],
      "text/plain": [
       "                     id                   address  \\\n",
       "0  AVwc__cikufWRAb51QjV         610 Commercial St   \n",
       "1  AVwc__cikufWRAb51QjV         610 Commercial St   \n",
       "2  AVwc__dF_7pvs4fz1Ncy      9521 Morton Davis Dr   \n",
       "3  AVwc__kCByjofQCxkdm-  10550 W I 25 Frontage Rd   \n",
       "4  AVwc__WtByjofQCxkdkR             8495 W 3rd St   \n",
       "\n",
       "                                          categories         city country  \\\n",
       "0  Restaurant Delivery Service,Restaurants,Pizza,...     Atchison      US   \n",
       "1  Restaurant Delivery Service,Restaurants,Pizza,...     Atchison      US   \n",
       "2       Golf Course, American Restaurant, and Resort    Patterson      US   \n",
       "3                               Fast Food Restaurant     Longmont      US   \n",
       "4  Mexican Restaurant Mid-City West,Mexican Resta...  Los Angeles      US   \n",
       "\n",
       "                      cuisines             dateAdded           dateUpdated  \\\n",
       "0  Restaurant Delivery Service  2016-03-02T11:49:34Z  2017-02-01T18:04:44Z   \n",
       "1  Restaurant Delivery Service  2016-03-02T11:49:34Z  2017-02-01T18:04:44Z   \n",
       "2                          NaN  2016-10-14T01:58:25Z  2016-10-14T01:58:25Z   \n",
       "3                          NaN  2016-09-09T17:30:34Z  2016-10-04T05:15:17Z   \n",
       "4                      Mexican  2016-05-19T11:50:25Z  2016-09-11T00:06:37Z   \n",
       "\n",
       "                                                keys   latitude  ...  \\\n",
       "0          us/ks/atchison/610commercialst/-138126000  39.561570  ...   \n",
       "1          us/ks/atchison/610commercialst/-138126000  39.561570  ...   \n",
       "2  us/grayson/patterson/9521mortondavisdr/-522005016  37.401855  ...   \n",
       "3  us/niwot/longmont/10550wi25frontagerd/-1161002137        NaN  ...   \n",
       "4   us/bicentennial/losangeles/8495w3rdst/-251199537  34.080724  ...   \n",
       "\n",
       "         menus.dateSeen                                  menus.description  \\\n",
       "0  2017-02-01T18:04:44Z                                                NaN   \n",
       "1  2016-03-02T11:49:34Z  Beef, onion, cheddar cheese, lettuce,  refried...   \n",
       "2  2016-10-14T01:58:25Z  Beef barbacoa or chicken, spanish rice, pico d...   \n",
       "3  2016-09-09T17:30:34Z                                                NaN   \n",
       "4  2016-05-19T11:50:25Z  Wahoo, avocado, cabbage, pico de gallo  and av...   \n",
       "\n",
       "          menus.name                               name postalCode  \\\n",
       "0               Taco                    Gambino's Pizza      66002   \n",
       "1               Taco                    Gambino's Pizza      66002   \n",
       "2   Smotherd Burrito  Diablo Grande Golf & Country Club      95363   \n",
       "3    Sausage Burrito                         Mcdonald's      80504   \n",
       "4  Wahoo Tacogrilled           Baja Fresh Mexican Grill      90048   \n",
       "\n",
       "  priceRangeCurrency priceRangeMin priceRangeMax      province  \\\n",
       "0                NaN           NaN           NaN            KS   \n",
       "1                NaN           NaN           NaN            KS   \n",
       "2                NaN           NaN           NaN       Grayson   \n",
       "3                NaN           NaN           NaN         Niwot   \n",
       "4                USD           0.0          25.0  Bicentennial   \n",
       "\n",
       "                       websites  \n",
       "0  http://www.gambinospizza.com  \n",
       "1  http://www.gambinospizza.com  \n",
       "2  http://www.diablogrande.com/  \n",
       "3          http://mcdonalds.com  \n",
       "4          http://bajafresh.com  \n",
       "\n",
       "[5 rows x 26 columns]"
      ]
     },
     "execution_count": 8,
     "metadata": {},
     "output_type": "execute_result"
    }
   ],
   "source": [
    "tacos_burritos_df = tacos_burritos_df.loc[:, ~tacos_burritos_df.columns.str.contains('^Unnamed')]\n",
    "\n",
    "tacos_burritos_df.head()"
   ]
  },
  {
   "cell_type": "markdown",
   "metadata": {},
   "source": [
    "#### Test"
   ]
  },
  {
   "cell_type": "code",
   "execution_count": 9,
   "metadata": {
    "scrolled": true
   },
   "outputs": [
    {
     "data": {
      "text/plain": [
       "Index(['id', 'address', 'categories', 'city', 'country', 'cuisines',\n",
       "       'dateAdded', 'dateUpdated', 'keys', 'latitude', 'longitude',\n",
       "       'menuPageURL', 'menus.amountMax', 'menus.amountMin', 'menus.category',\n",
       "       'menus.currency', 'menus.dateSeen', 'menus.description', 'menus.name',\n",
       "       'name', 'postalCode', 'priceRangeCurrency', 'priceRangeMin',\n",
       "       'priceRangeMax', 'province', 'websites'],\n",
       "      dtype='object')"
      ]
     },
     "execution_count": 9,
     "metadata": {},
     "output_type": "execute_result"
    }
   ],
   "source": [
    "tacos_burritos_df.columns"
   ]
  },
  {
   "cell_type": "markdown",
   "metadata": {},
   "source": [
    "2. Several columns not needed for Analysis & Visualizations."
   ]
  },
  {
   "cell_type": "markdown",
   "metadata": {},
   "source": [
    "#### Define"
   ]
  },
  {
   "cell_type": "markdown",
   "metadata": {},
   "source": [
    "Drop columns not required for Analysis & Visualizations."
   ]
  },
  {
   "cell_type": "markdown",
   "metadata": {},
   "source": [
    "Here, there are several columns which are not required for analysis & visualizations. It is better to drop those columns to obtain clean data which can be used for analysis and visualizations.\n",
    "\n",
    "The columns not required are:\n",
    "1. latitude 2. longitude 3. menuPageURL 4. menus.amountMax 5. menus.amountMin 6. keys 7. postalCode 8. priceRangeMin\n",
    "9. priceRangeMax 10. province 11. websites\n",
    "\n",
    "Here, \n",
    "\n",
    "We do not need latitude, longitude, postalCode, province columns since we already have city and country to query and analyze the data by.\n",
    "\n",
    "We do not need menuPageURL, menus.amountMax, menus.amountMin columns since they have a lot of Null values which will be dropped in data cleaning step.\n",
    "\n",
    "We do not need keys, priceRangeMin, priceRangeMax, province & website columns since they do not provide any signifiacnt data that can be used to for analyses."
   ]
  },
  {
   "cell_type": "markdown",
   "metadata": {},
   "source": [
    "#### Code"
   ]
  },
  {
   "cell_type": "code",
   "execution_count": 10,
   "metadata": {},
   "outputs": [],
   "source": [
    "tacos_burritos_df_new = tacos_burritos_df.drop(['latitude', 'longitude', 'menuPageURL', 'menus.amountMax',\n",
    "                        'menus.amountMin', 'keys', 'postalCode', 'priceRangeMin',\n",
    "                        'priceRangeMax', 'province', 'websites'], axis=1)"
   ]
  },
  {
   "cell_type": "markdown",
   "metadata": {},
   "source": [
    "#### Test"
   ]
  },
  {
   "cell_type": "code",
   "execution_count": 11,
   "metadata": {},
   "outputs": [
    {
     "name": "stdout",
     "output_type": "stream",
     "text": [
      "<class 'pandas.core.frame.DataFrame'>\n",
      "RangeIndex: 77260 entries, 0 to 77259\n",
      "Data columns (total 15 columns):\n",
      "id                    77260 non-null object\n",
      "address               77260 non-null object\n",
      "categories            77260 non-null object\n",
      "city                  77260 non-null object\n",
      "country               77260 non-null object\n",
      "cuisines              38384 non-null object\n",
      "dateAdded             77260 non-null object\n",
      "dateUpdated           77260 non-null object\n",
      "menus.category        3729 non-null object\n",
      "menus.currency        40511 non-null object\n",
      "menus.dateSeen        77260 non-null object\n",
      "menus.description     29323 non-null object\n",
      "menus.name            77260 non-null object\n",
      "name                  77257 non-null object\n",
      "priceRangeCurrency    48159 non-null object\n",
      "dtypes: object(15)\n",
      "memory usage: 8.8+ MB\n"
     ]
    }
   ],
   "source": [
    "tacos_burritos_df_new.info()"
   ]
  },
  {
   "cell_type": "markdown",
   "metadata": {},
   "source": [
    "3. Delete columns having high NaN Values."
   ]
  },
  {
   "cell_type": "markdown",
   "metadata": {},
   "source": [
    "#### Define"
   ]
  },
  {
   "cell_type": "markdown",
   "metadata": {},
   "source": [
    "Drop the following columns having very high NaN values.\n",
    "\n",
    "1. priceRangeCurrency 2. menus.description 3. menus.category 4. menus.currency 5. cuisines"
   ]
  },
  {
   "cell_type": "markdown",
   "metadata": {},
   "source": [
    "#### Code"
   ]
  },
  {
   "cell_type": "code",
   "execution_count": 12,
   "metadata": {},
   "outputs": [],
   "source": [
    "tacos_burritos_df_new = tacos_burritos_df_new.drop(['priceRangeCurrency', 'menus.description', 'menus.category', 'menus.currency', 'cuisines'], axis=1)"
   ]
  },
  {
   "cell_type": "markdown",
   "metadata": {},
   "source": [
    "#### Test"
   ]
  },
  {
   "cell_type": "code",
   "execution_count": 13,
   "metadata": {},
   "outputs": [
    {
     "name": "stdout",
     "output_type": "stream",
     "text": [
      "<class 'pandas.core.frame.DataFrame'>\n",
      "RangeIndex: 77260 entries, 0 to 77259\n",
      "Data columns (total 10 columns):\n",
      "id                77260 non-null object\n",
      "address           77260 non-null object\n",
      "categories        77260 non-null object\n",
      "city              77260 non-null object\n",
      "country           77260 non-null object\n",
      "dateAdded         77260 non-null object\n",
      "dateUpdated       77260 non-null object\n",
      "menus.dateSeen    77260 non-null object\n",
      "menus.name        77260 non-null object\n",
      "name              77257 non-null object\n",
      "dtypes: object(10)\n",
      "memory usage: 5.9+ MB\n"
     ]
    }
   ],
   "source": [
    "tacos_burritos_df_new.info()"
   ]
  },
  {
   "cell_type": "markdown",
   "metadata": {},
   "source": [
    "4. Null values in some columns.\n"
   ]
  },
  {
   "cell_type": "markdown",
   "metadata": {},
   "source": [
    "#### Define"
   ]
  },
  {
   "cell_type": "markdown",
   "metadata": {},
   "source": [
    "Remove remaining null values from name column"
   ]
  },
  {
   "cell_type": "markdown",
   "metadata": {},
   "source": [
    "#### Code"
   ]
  },
  {
   "cell_type": "code",
   "execution_count": 14,
   "metadata": {},
   "outputs": [],
   "source": [
    "tacos_burritos_df_new = tacos_burritos_df_new.dropna()"
   ]
  },
  {
   "cell_type": "markdown",
   "metadata": {},
   "source": [
    "#### Test"
   ]
  },
  {
   "cell_type": "code",
   "execution_count": 15,
   "metadata": {},
   "outputs": [
    {
     "name": "stdout",
     "output_type": "stream",
     "text": [
      "<class 'pandas.core.frame.DataFrame'>\n",
      "Int64Index: 77257 entries, 0 to 77259\n",
      "Data columns (total 10 columns):\n",
      "id                77257 non-null object\n",
      "address           77257 non-null object\n",
      "categories        77257 non-null object\n",
      "city              77257 non-null object\n",
      "country           77257 non-null object\n",
      "dateAdded         77257 non-null object\n",
      "dateUpdated       77257 non-null object\n",
      "menus.dateSeen    77257 non-null object\n",
      "menus.name        77257 non-null object\n",
      "name              77257 non-null object\n",
      "dtypes: object(10)\n",
      "memory usage: 6.5+ MB\n"
     ]
    }
   ],
   "source": [
    "tacos_burritos_df_new.info()"
   ]
  },
  {
   "cell_type": "markdown",
   "metadata": {},
   "source": [
    "5. Incorrect datatype for dateAdded, dateUpdated, menus.dateSeen columns."
   ]
  },
  {
   "cell_type": "markdown",
   "metadata": {},
   "source": [
    "#### Define"
   ]
  },
  {
   "cell_type": "markdown",
   "metadata": {},
   "source": [
    "Incorrect format for dateAdded, dateUpdated, menus.dateSeen columns, extract month-year from the current format.\n",
    "\n",
    "Also, dateUpdated and menus.dateSeen are not needed, drop those columns"
   ]
  },
  {
   "cell_type": "markdown",
   "metadata": {},
   "source": [
    "#### Code"
   ]
  },
  {
   "cell_type": "code",
   "execution_count": 16,
   "metadata": {},
   "outputs": [],
   "source": [
    "tacos_burritos_df_new = tacos_burritos_df_new.drop(['dateUpdated', 'menus.dateSeen'], axis=1)"
   ]
  },
  {
   "cell_type": "code",
   "execution_count": 17,
   "metadata": {},
   "outputs": [],
   "source": [
    "tacos_burritos_df_new['dateAdded'] = pd.to_datetime(tacos_burritos_df_new['dateAdded'])"
   ]
  },
  {
   "cell_type": "code",
   "execution_count": 18,
   "metadata": {},
   "outputs": [],
   "source": [
    "tacos_burritos_df_new['year'] = tacos_burritos_df_new['dateAdded'].dt.year\n",
    "tacos_burritos_df_new['month'] = tacos_burritos_df_new['dateAdded'].dt.month\n",
    "tacos_burritos_df_new['day'] = tacos_burritos_df_new['dateAdded'].dt.day\n",
    "\n",
    "tacos_burritos_df_new['date'] = pd.to_datetime(tacos_burritos_df_new[['year', 'month', 'day']])"
   ]
  },
  {
   "cell_type": "code",
   "execution_count": 19,
   "metadata": {},
   "outputs": [],
   "source": [
    "tacos_burritos_df_new = tacos_burritos_df_new.drop(['dateAdded', 'year', 'month', 'day'], axis=1)"
   ]
  },
  {
   "cell_type": "markdown",
   "metadata": {},
   "source": [
    "#### Test"
   ]
  },
  {
   "cell_type": "code",
   "execution_count": 20,
   "metadata": {},
   "outputs": [
    {
     "data": {
      "text/html": [
       "<div>\n",
       "<style scoped>\n",
       "    .dataframe tbody tr th:only-of-type {\n",
       "        vertical-align: middle;\n",
       "    }\n",
       "\n",
       "    .dataframe tbody tr th {\n",
       "        vertical-align: top;\n",
       "    }\n",
       "\n",
       "    .dataframe thead th {\n",
       "        text-align: right;\n",
       "    }\n",
       "</style>\n",
       "<table border=\"1\" class=\"dataframe\">\n",
       "  <thead>\n",
       "    <tr style=\"text-align: right;\">\n",
       "      <th></th>\n",
       "      <th>id</th>\n",
       "      <th>address</th>\n",
       "      <th>categories</th>\n",
       "      <th>city</th>\n",
       "      <th>country</th>\n",
       "      <th>menus.name</th>\n",
       "      <th>name</th>\n",
       "      <th>date</th>\n",
       "    </tr>\n",
       "  </thead>\n",
       "  <tbody>\n",
       "    <tr>\n",
       "      <th>0</th>\n",
       "      <td>AVwc__cikufWRAb51QjV</td>\n",
       "      <td>610 Commercial St</td>\n",
       "      <td>Restaurant Delivery Service,Restaurants,Pizza,...</td>\n",
       "      <td>Atchison</td>\n",
       "      <td>US</td>\n",
       "      <td>Taco</td>\n",
       "      <td>Gambino's Pizza</td>\n",
       "      <td>2016-03-02</td>\n",
       "    </tr>\n",
       "    <tr>\n",
       "      <th>1</th>\n",
       "      <td>AVwc__cikufWRAb51QjV</td>\n",
       "      <td>610 Commercial St</td>\n",
       "      <td>Restaurant Delivery Service,Restaurants,Pizza,...</td>\n",
       "      <td>Atchison</td>\n",
       "      <td>US</td>\n",
       "      <td>Taco</td>\n",
       "      <td>Gambino's Pizza</td>\n",
       "      <td>2016-03-02</td>\n",
       "    </tr>\n",
       "    <tr>\n",
       "      <th>2</th>\n",
       "      <td>AVwc__dF_7pvs4fz1Ncy</td>\n",
       "      <td>9521 Morton Davis Dr</td>\n",
       "      <td>Golf Course, American Restaurant, and Resort</td>\n",
       "      <td>Patterson</td>\n",
       "      <td>US</td>\n",
       "      <td>Smotherd Burrito</td>\n",
       "      <td>Diablo Grande Golf &amp; Country Club</td>\n",
       "      <td>2016-10-14</td>\n",
       "    </tr>\n",
       "    <tr>\n",
       "      <th>3</th>\n",
       "      <td>AVwc__kCByjofQCxkdm-</td>\n",
       "      <td>10550 W I 25 Frontage Rd</td>\n",
       "      <td>Fast Food Restaurant</td>\n",
       "      <td>Longmont</td>\n",
       "      <td>US</td>\n",
       "      <td>Sausage Burrito</td>\n",
       "      <td>Mcdonald's</td>\n",
       "      <td>2016-09-09</td>\n",
       "    </tr>\n",
       "    <tr>\n",
       "      <th>4</th>\n",
       "      <td>AVwc__WtByjofQCxkdkR</td>\n",
       "      <td>8495 W 3rd St</td>\n",
       "      <td>Mexican Restaurant Mid-City West,Mexican Resta...</td>\n",
       "      <td>Los Angeles</td>\n",
       "      <td>US</td>\n",
       "      <td>Wahoo Tacogrilled</td>\n",
       "      <td>Baja Fresh Mexican Grill</td>\n",
       "      <td>2016-05-19</td>\n",
       "    </tr>\n",
       "  </tbody>\n",
       "</table>\n",
       "</div>"
      ],
      "text/plain": [
       "                     id                   address  \\\n",
       "0  AVwc__cikufWRAb51QjV         610 Commercial St   \n",
       "1  AVwc__cikufWRAb51QjV         610 Commercial St   \n",
       "2  AVwc__dF_7pvs4fz1Ncy      9521 Morton Davis Dr   \n",
       "3  AVwc__kCByjofQCxkdm-  10550 W I 25 Frontage Rd   \n",
       "4  AVwc__WtByjofQCxkdkR             8495 W 3rd St   \n",
       "\n",
       "                                          categories         city country  \\\n",
       "0  Restaurant Delivery Service,Restaurants,Pizza,...     Atchison      US   \n",
       "1  Restaurant Delivery Service,Restaurants,Pizza,...     Atchison      US   \n",
       "2       Golf Course, American Restaurant, and Resort    Patterson      US   \n",
       "3                               Fast Food Restaurant     Longmont      US   \n",
       "4  Mexican Restaurant Mid-City West,Mexican Resta...  Los Angeles      US   \n",
       "\n",
       "          menus.name                               name       date  \n",
       "0               Taco                    Gambino's Pizza 2016-03-02  \n",
       "1               Taco                    Gambino's Pizza 2016-03-02  \n",
       "2   Smotherd Burrito  Diablo Grande Golf & Country Club 2016-10-14  \n",
       "3    Sausage Burrito                         Mcdonald's 2016-09-09  \n",
       "4  Wahoo Tacogrilled           Baja Fresh Mexican Grill 2016-05-19  "
      ]
     },
     "execution_count": 20,
     "metadata": {},
     "output_type": "execute_result"
    }
   ],
   "source": [
    "tacos_burritos_df_new.head()"
   ]
  },
  {
   "cell_type": "markdown",
   "metadata": {},
   "source": [
    "6. Duplicate rows in data"
   ]
  },
  {
   "cell_type": "markdown",
   "metadata": {},
   "source": [
    "#### Define"
   ]
  },
  {
   "cell_type": "markdown",
   "metadata": {},
   "source": [
    "Check how many duplicate rows are present in data and remove those to get accurate answers"
   ]
  },
  {
   "cell_type": "code",
   "execution_count": 21,
   "metadata": {},
   "outputs": [
    {
     "data": {
      "text/plain": [
       "3102"
      ]
     },
     "execution_count": 21,
     "metadata": {},
     "output_type": "execute_result"
    }
   ],
   "source": [
    "tacos_burritos_df_new.duplicated().sum()"
   ]
  },
  {
   "cell_type": "markdown",
   "metadata": {},
   "source": [
    "There are currently 3102 duplicated rows in data, removing all those rows."
   ]
  },
  {
   "cell_type": "markdown",
   "metadata": {},
   "source": [
    "#### Code"
   ]
  },
  {
   "cell_type": "code",
   "execution_count": 22,
   "metadata": {},
   "outputs": [],
   "source": [
    "tacos_burritos_df_new.drop_duplicates(keep=False, inplace=True)"
   ]
  },
  {
   "cell_type": "markdown",
   "metadata": {},
   "source": [
    "#### Test"
   ]
  },
  {
   "cell_type": "code",
   "execution_count": 23,
   "metadata": {},
   "outputs": [
    {
     "name": "stdout",
     "output_type": "stream",
     "text": [
      "<class 'pandas.core.frame.DataFrame'>\n",
      "Int64Index: 71071 entries, 2 to 77259\n",
      "Data columns (total 8 columns):\n",
      "id            71071 non-null object\n",
      "address       71071 non-null object\n",
      "categories    71071 non-null object\n",
      "city          71071 non-null object\n",
      "country       71071 non-null object\n",
      "menus.name    71071 non-null object\n",
      "name          71071 non-null object\n",
      "date          71071 non-null datetime64[ns]\n",
      "dtypes: datetime64[ns](1), object(7)\n",
      "memory usage: 4.9+ MB\n"
     ]
    }
   ],
   "source": [
    "tacos_burritos_df_new.info()"
   ]
  },
  {
   "cell_type": "markdown",
   "metadata": {},
   "source": [
    "Now, the dataset is cleaned. Lets make a copy of it and get started with the Analysis and Visualizations."
   ]
  },
  {
   "cell_type": "code",
   "execution_count": 24,
   "metadata": {},
   "outputs": [],
   "source": [
    "tacos_burritos_df_clean = tacos_burritos_df_new.copy()"
   ]
  },
  {
   "cell_type": "code",
   "execution_count": 25,
   "metadata": {},
   "outputs": [
    {
     "name": "stdout",
     "output_type": "stream",
     "text": [
      "<class 'pandas.core.frame.DataFrame'>\n",
      "Int64Index: 71071 entries, 2 to 77259\n",
      "Data columns (total 8 columns):\n",
      "id            71071 non-null object\n",
      "address       71071 non-null object\n",
      "categories    71071 non-null object\n",
      "city          71071 non-null object\n",
      "country       71071 non-null object\n",
      "menus.name    71071 non-null object\n",
      "name          71071 non-null object\n",
      "date          71071 non-null datetime64[ns]\n",
      "dtypes: datetime64[ns](1), object(7)\n",
      "memory usage: 4.9+ MB\n"
     ]
    }
   ],
   "source": [
    "tacos_burritos_df_clean.info()"
   ]
  },
  {
   "cell_type": "code",
   "execution_count": 26,
   "metadata": {},
   "outputs": [
    {
     "data": {
      "text/html": [
       "<div>\n",
       "<style scoped>\n",
       "    .dataframe tbody tr th:only-of-type {\n",
       "        vertical-align: middle;\n",
       "    }\n",
       "\n",
       "    .dataframe tbody tr th {\n",
       "        vertical-align: top;\n",
       "    }\n",
       "\n",
       "    .dataframe thead th {\n",
       "        text-align: right;\n",
       "    }\n",
       "</style>\n",
       "<table border=\"1\" class=\"dataframe\">\n",
       "  <thead>\n",
       "    <tr style=\"text-align: right;\">\n",
       "      <th></th>\n",
       "      <th>id</th>\n",
       "      <th>address</th>\n",
       "      <th>categories</th>\n",
       "      <th>city</th>\n",
       "      <th>country</th>\n",
       "      <th>menus.name</th>\n",
       "      <th>name</th>\n",
       "      <th>date</th>\n",
       "    </tr>\n",
       "  </thead>\n",
       "  <tbody>\n",
       "    <tr>\n",
       "      <th>2</th>\n",
       "      <td>AVwc__dF_7pvs4fz1Ncy</td>\n",
       "      <td>9521 Morton Davis Dr</td>\n",
       "      <td>Golf Course, American Restaurant, and Resort</td>\n",
       "      <td>Patterson</td>\n",
       "      <td>US</td>\n",
       "      <td>Smotherd Burrito</td>\n",
       "      <td>Diablo Grande Golf &amp; Country Club</td>\n",
       "      <td>2016-10-14</td>\n",
       "    </tr>\n",
       "    <tr>\n",
       "      <th>3</th>\n",
       "      <td>AVwc__kCByjofQCxkdm-</td>\n",
       "      <td>10550 W I 25 Frontage Rd</td>\n",
       "      <td>Fast Food Restaurant</td>\n",
       "      <td>Longmont</td>\n",
       "      <td>US</td>\n",
       "      <td>Sausage Burrito</td>\n",
       "      <td>Mcdonald's</td>\n",
       "      <td>2016-09-09</td>\n",
       "    </tr>\n",
       "    <tr>\n",
       "      <th>4</th>\n",
       "      <td>AVwc__WtByjofQCxkdkR</td>\n",
       "      <td>8495 W 3rd St</td>\n",
       "      <td>Mexican Restaurant Mid-City West,Mexican Resta...</td>\n",
       "      <td>Los Angeles</td>\n",
       "      <td>US</td>\n",
       "      <td>Wahoo Tacogrilled</td>\n",
       "      <td>Baja Fresh Mexican Grill</td>\n",
       "      <td>2016-05-19</td>\n",
       "    </tr>\n",
       "    <tr>\n",
       "      <th>5</th>\n",
       "      <td>AVwc__WtByjofQCxkdkR</td>\n",
       "      <td>8495 W 3rd St</td>\n",
       "      <td>Mexican Restaurant Mid-City West,Mexican Resta...</td>\n",
       "      <td>Los Angeles</td>\n",
       "      <td>US</td>\n",
       "      <td>Wahoo Tacocrispy</td>\n",
       "      <td>Baja Fresh Mexican Grill</td>\n",
       "      <td>2016-05-19</td>\n",
       "    </tr>\n",
       "    <tr>\n",
       "      <th>6</th>\n",
       "      <td>AVwc__WtByjofQCxkdkR</td>\n",
       "      <td>8495 W 3rd St</td>\n",
       "      <td>Mexican Restaurant Mid-City West,Mexican Resta...</td>\n",
       "      <td>Los Angeles</td>\n",
       "      <td>US</td>\n",
       "      <td>Taco Combo</td>\n",
       "      <td>Baja Fresh Mexican Grill</td>\n",
       "      <td>2016-05-19</td>\n",
       "    </tr>\n",
       "  </tbody>\n",
       "</table>\n",
       "</div>"
      ],
      "text/plain": [
       "                     id                   address  \\\n",
       "2  AVwc__dF_7pvs4fz1Ncy      9521 Morton Davis Dr   \n",
       "3  AVwc__kCByjofQCxkdm-  10550 W I 25 Frontage Rd   \n",
       "4  AVwc__WtByjofQCxkdkR             8495 W 3rd St   \n",
       "5  AVwc__WtByjofQCxkdkR             8495 W 3rd St   \n",
       "6  AVwc__WtByjofQCxkdkR             8495 W 3rd St   \n",
       "\n",
       "                                          categories         city country  \\\n",
       "2       Golf Course, American Restaurant, and Resort    Patterson      US   \n",
       "3                               Fast Food Restaurant     Longmont      US   \n",
       "4  Mexican Restaurant Mid-City West,Mexican Resta...  Los Angeles      US   \n",
       "5  Mexican Restaurant Mid-City West,Mexican Resta...  Los Angeles      US   \n",
       "6  Mexican Restaurant Mid-City West,Mexican Resta...  Los Angeles      US   \n",
       "\n",
       "          menus.name                               name       date  \n",
       "2   Smotherd Burrito  Diablo Grande Golf & Country Club 2016-10-14  \n",
       "3    Sausage Burrito                         Mcdonald's 2016-09-09  \n",
       "4  Wahoo Tacogrilled           Baja Fresh Mexican Grill 2016-05-19  \n",
       "5   Wahoo Tacocrispy           Baja Fresh Mexican Grill 2016-05-19  \n",
       "6         Taco Combo           Baja Fresh Mexican Grill 2016-05-19  "
      ]
     },
     "execution_count": 26,
     "metadata": {},
     "output_type": "execute_result"
    }
   ],
   "source": [
    "tacos_burritos_df_clean.head()"
   ]
  },
  {
   "cell_type": "markdown",
   "metadata": {},
   "source": [
    "### Data Analysis & Visualizations"
   ]
  },
  {
   "cell_type": "markdown",
   "metadata": {},
   "source": [
    "#### 1.  What are the top 5 cities having most taco & burritos restaurants?"
   ]
  },
  {
   "cell_type": "code",
   "execution_count": 27,
   "metadata": {},
   "outputs": [
    {
     "data": {
      "text/plain": [
       "San Diego        1519\n",
       "Los Angeles      1453\n",
       "Chicago          1086\n",
       "San Francisco     997\n",
       "New York          989\n",
       "Name: city, dtype: int64"
      ]
     },
     "execution_count": 27,
     "metadata": {},
     "output_type": "execute_result"
    }
   ],
   "source": [
    "tacos_burritos_df_clean.city.value_counts().head()"
   ]
  },
  {
   "cell_type": "code",
   "execution_count": 28,
   "metadata": {},
   "outputs": [
    {
     "data": {
      "image/png": "[encoded data removed]",
      "text/plain": [
       "<Figure size 720x360 with 1 Axes>"
      ]
     },
     "metadata": {},
     "output_type": "display_data"
    }
   ],
   "source": [
    "#Top 5 cities have most number of taco and burritos restaurants\n",
    "plt.style.use('ggplot')\n",
    "\n",
    "plt.figure(figsize=(10,5))\n",
    "barplot = tacos_burritos_df_clean.city.value_counts().head().plot(kind='bar')\n",
    "plt.xticks(rotation=0)\n",
    "plt.xlabel('Cities')\n",
    "plt.ylabel('Count')\n",
    "plt.title('Top 5 cities having highest tacos and burritos restaurants');\n",
    "\n",
    "for i in barplot.patches:\n",
    "    barplot.text(i.get_x()+.15, i.get_height()+.75, \\\n",
    "                  str(round((i.get_height()), 2)), fontsize=12, color='dimgrey')"
   ]
  },
  {
   "cell_type": "markdown",
   "metadata": {},
   "source": [
    "From the above barplot, we can clearly figure out the top 5 restaurants having highest number of tacos & burritos restaurants for this dataset are as follows:\n",
    "\n",
    "1. San Diego - 1519 \n",
    "2. Los Angelos - 1453\n",
    "3. Chicago - 1086\n",
    "4. San Francisco - 997\n",
    "5. New York - 989\n",
    "\n",
    "It is so surprising to see that no city of Texas is included in the top 5 list."
   ]
  },
  {
   "cell_type": "code",
   "execution_count": 29,
   "metadata": {},
   "outputs": [
    {
     "data": {
      "text/plain": [
       "San Diego        1519\n",
       "Los Angeles      1453\n",
       "Chicago          1086\n",
       "San Francisco     997\n",
       "New York          989\n",
       "Houston           782\n",
       "Brooklyn          679\n",
       "Las Vegas         625\n",
       "Portland          521\n",
       "San Antonio       513\n",
       "Name: city, dtype: int64"
      ]
     },
     "execution_count": 29,
     "metadata": {},
     "output_type": "execute_result"
    }
   ],
   "source": [
    "tacos_burritos_df_clean.city.value_counts().head(10)"
   ]
  },
  {
   "cell_type": "markdown",
   "metadata": {},
   "source": [
    "2 Cities of Texas (Houston & San Antonio are included in top 10 cities having most number of tacos & burritos restaurants)."
   ]
  },
  {
   "cell_type": "markdown",
   "metadata": {},
   "source": [
    "#### 2. What are most number of restaurants added in each year in the dataset?"
   ]
  },
  {
   "cell_type": "code",
   "execution_count": 30,
   "metadata": {},
   "outputs": [
    {
     "data": {
      "text/plain": [
       "array([2016, 2015, 2017, 2014])"
      ]
     },
     "execution_count": 30,
     "metadata": {},
     "output_type": "execute_result"
    }
   ],
   "source": [
    "#Number of years present in the dataset\n",
    "tacos_burritos_df_clean.date.dt.year.unique()"
   ]
  },
  {
   "cell_type": "code",
   "execution_count": 31,
   "metadata": {},
   "outputs": [
    {
     "data": {
      "text/plain": [
       "2016    44704\n",
       "2015    24696\n",
       "2017     1052\n",
       "2014      619\n",
       "Name: date, dtype: int64"
      ]
     },
     "execution_count": 31,
     "metadata": {},
     "output_type": "execute_result"
    }
   ],
   "source": [
    "# Count of Restaurants added each year\n",
    "tacos_burritos_df_clean.date.dt.year.value_counts()"
   ]
  },
  {
   "cell_type": "code",
   "execution_count": 32,
   "metadata": {},
   "outputs": [
    {
     "data": {
      "image/png": "[encoded data removed]",
      "text/plain": [
       "<Figure size 864x360 with 1 Axes>"
      ]
     },
     "metadata": {},
     "output_type": "display_data"
    }
   ],
   "source": [
    "# Number of restaurants added in each year\n",
    "plt.style.use('ggplot')\n",
    "\n",
    "plt.figure(figsize=(12,5))\n",
    "barplot = tacos_burritos_df_clean.date.dt.year.value_counts().plot(kind='bar', color='seagreen')\n",
    "plt.xticks(rotation=0)\n",
    "plt.xlabel('Year')\n",
    "plt.ylabel('Count')\n",
    "plt.title('Top 5 cities having highest tacos and burritos restaurants');\n",
    "\n",
    "for i in barplot.patches:\n",
    "    barplot.text(i.get_x()+.15, i.get_height()+.75, \\\n",
    "                  str(round((i.get_height()), 2)), fontsize=12, color='dimgrey')"
   ]
  },
  {
   "cell_type": "markdown",
   "metadata": {},
   "source": [
    "This analysis can be further broken down to how many restaurants were added in each month for a year."
   ]
  },
  {
   "cell_type": "code",
   "execution_count": 33,
   "metadata": {},
   "outputs": [],
   "source": [
    "#extracting month-year from date column\n",
    "tacos_burritos_df_clean['year'] = pd.DatetimeIndex(tacos_burritos_df_clean['date']).year\n",
    "tacos_burritos_df_clean['month'] = pd.DatetimeIndex(tacos_burritos_df_clean['date']).month"
   ]
  },
  {
   "cell_type": "code",
   "execution_count": 34,
   "metadata": {},
   "outputs": [
    {
     "data": {
      "text/html": [
       "<div>\n",
       "<style scoped>\n",
       "    .dataframe tbody tr th:only-of-type {\n",
       "        vertical-align: middle;\n",
       "    }\n",
       "\n",
       "    .dataframe tbody tr th {\n",
       "        vertical-align: top;\n",
       "    }\n",
       "\n",
       "    .dataframe thead th {\n",
       "        text-align: right;\n",
       "    }\n",
       "</style>\n",
       "<table border=\"1\" class=\"dataframe\">\n",
       "  <thead>\n",
       "    <tr style=\"text-align: right;\">\n",
       "      <th></th>\n",
       "      <th>id</th>\n",
       "      <th>address</th>\n",
       "      <th>categories</th>\n",
       "      <th>city</th>\n",
       "      <th>country</th>\n",
       "      <th>menus.name</th>\n",
       "      <th>name</th>\n",
       "      <th>date</th>\n",
       "      <th>year</th>\n",
       "      <th>month</th>\n",
       "    </tr>\n",
       "  </thead>\n",
       "  <tbody>\n",
       "    <tr>\n",
       "      <th>2</th>\n",
       "      <td>AVwc__dF_7pvs4fz1Ncy</td>\n",
       "      <td>9521 Morton Davis Dr</td>\n",
       "      <td>Golf Course, American Restaurant, and Resort</td>\n",
       "      <td>Patterson</td>\n",
       "      <td>US</td>\n",
       "      <td>Smotherd Burrito</td>\n",
       "      <td>Diablo Grande Golf &amp; Country Club</td>\n",
       "      <td>2016-10-14</td>\n",
       "      <td>2016</td>\n",
       "      <td>10</td>\n",
       "    </tr>\n",
       "    <tr>\n",
       "      <th>3</th>\n",
       "      <td>AVwc__kCByjofQCxkdm-</td>\n",
       "      <td>10550 W I 25 Frontage Rd</td>\n",
       "      <td>Fast Food Restaurant</td>\n",
       "      <td>Longmont</td>\n",
       "      <td>US</td>\n",
       "      <td>Sausage Burrito</td>\n",
       "      <td>Mcdonald's</td>\n",
       "      <td>2016-09-09</td>\n",
       "      <td>2016</td>\n",
       "      <td>9</td>\n",
       "    </tr>\n",
       "    <tr>\n",
       "      <th>4</th>\n",
       "      <td>AVwc__WtByjofQCxkdkR</td>\n",
       "      <td>8495 W 3rd St</td>\n",
       "      <td>Mexican Restaurant Mid-City West,Mexican Resta...</td>\n",
       "      <td>Los Angeles</td>\n",
       "      <td>US</td>\n",
       "      <td>Wahoo Tacogrilled</td>\n",
       "      <td>Baja Fresh Mexican Grill</td>\n",
       "      <td>2016-05-19</td>\n",
       "      <td>2016</td>\n",
       "      <td>5</td>\n",
       "    </tr>\n",
       "    <tr>\n",
       "      <th>5</th>\n",
       "      <td>AVwc__WtByjofQCxkdkR</td>\n",
       "      <td>8495 W 3rd St</td>\n",
       "      <td>Mexican Restaurant Mid-City West,Mexican Resta...</td>\n",
       "      <td>Los Angeles</td>\n",
       "      <td>US</td>\n",
       "      <td>Wahoo Tacocrispy</td>\n",
       "      <td>Baja Fresh Mexican Grill</td>\n",
       "      <td>2016-05-19</td>\n",
       "      <td>2016</td>\n",
       "      <td>5</td>\n",
       "    </tr>\n",
       "    <tr>\n",
       "      <th>6</th>\n",
       "      <td>AVwc__WtByjofQCxkdkR</td>\n",
       "      <td>8495 W 3rd St</td>\n",
       "      <td>Mexican Restaurant Mid-City West,Mexican Resta...</td>\n",
       "      <td>Los Angeles</td>\n",
       "      <td>US</td>\n",
       "      <td>Taco Combo</td>\n",
       "      <td>Baja Fresh Mexican Grill</td>\n",
       "      <td>2016-05-19</td>\n",
       "      <td>2016</td>\n",
       "      <td>5</td>\n",
       "    </tr>\n",
       "  </tbody>\n",
       "</table>\n",
       "</div>"
      ],
      "text/plain": [
       "                     id                   address  \\\n",
       "2  AVwc__dF_7pvs4fz1Ncy      9521 Morton Davis Dr   \n",
       "3  AVwc__kCByjofQCxkdm-  10550 W I 25 Frontage Rd   \n",
       "4  AVwc__WtByjofQCxkdkR             8495 W 3rd St   \n",
       "5  AVwc__WtByjofQCxkdkR             8495 W 3rd St   \n",
       "6  AVwc__WtByjofQCxkdkR             8495 W 3rd St   \n",
       "\n",
       "                                          categories         city country  \\\n",
       "2       Golf Course, American Restaurant, and Resort    Patterson      US   \n",
       "3                               Fast Food Restaurant     Longmont      US   \n",
       "4  Mexican Restaurant Mid-City West,Mexican Resta...  Los Angeles      US   \n",
       "5  Mexican Restaurant Mid-City West,Mexican Resta...  Los Angeles      US   \n",
       "6  Mexican Restaurant Mid-City West,Mexican Resta...  Los Angeles      US   \n",
       "\n",
       "          menus.name                               name       date  year  \\\n",
       "2   Smotherd Burrito  Diablo Grande Golf & Country Club 2016-10-14  2016   \n",
       "3    Sausage Burrito                         Mcdonald's 2016-09-09  2016   \n",
       "4  Wahoo Tacogrilled           Baja Fresh Mexican Grill 2016-05-19  2016   \n",
       "5   Wahoo Tacocrispy           Baja Fresh Mexican Grill 2016-05-19  2016   \n",
       "6         Taco Combo           Baja Fresh Mexican Grill 2016-05-19  2016   \n",
       "\n",
       "   month  \n",
       "2     10  \n",
       "3      9  \n",
       "4      5  \n",
       "5      5  \n",
       "6      5  "
      ]
     },
     "execution_count": 34,
     "metadata": {},
     "output_type": "execute_result"
    }
   ],
   "source": [
    "tacos_burritos_df_clean.head()"
   ]
  },
  {
   "cell_type": "markdown",
   "metadata": {},
   "source": [
    "Month-Year columns have been extracted from the date column."
   ]
  },
  {
   "cell_type": "code",
   "execution_count": 35,
   "metadata": {},
   "outputs": [
    {
     "data": {
      "text/plain": [
       "year  month\n",
       "2014  1          280\n",
       "      10         176\n",
       "      2           84\n",
       "      9           41\n",
       "      11          28\n",
       "      6            8\n",
       "      8            2\n",
       "2015  10       15609\n",
       "      11        5238\n",
       "      9         1577\n",
       "      12         894\n",
       "      7          723\n",
       "      2          215\n",
       "      6          209\n",
       "      5           72\n",
       "      8           68\n",
       "      4           51\n",
       "      1           37\n",
       "      3            3\n",
       "2016  3        19312\n",
       "      4        11165\n",
       "      6         4859\n",
       "      5         3981\n",
       "      7         1529\n",
       "      8         1424\n",
       "      10         793\n",
       "      1          644\n",
       "      2          382\n",
       "      11         308\n",
       "      9          167\n",
       "      12         140\n",
       "2017  6          295\n",
       "      4          239\n",
       "      2          205\n",
       "      1          176\n",
       "      3          137\n",
       "Name: month, dtype: int64"
      ]
     },
     "execution_count": 35,
     "metadata": {},
     "output_type": "execute_result"
    }
   ],
   "source": [
    "#month-wise counts for restaurants added in each year\n",
    "tacos_burritos_df_clean.groupby('year')['month'].value_counts()"
   ]
  },
  {
   "cell_type": "code",
   "execution_count": 36,
   "metadata": {},
   "outputs": [
    {
     "data": {
      "image/png": "[encoded data removed]",
      "text/plain": [
       "<Figure size 1440x864 with 1 Axes>"
      ]
     },
     "metadata": {},
     "output_type": "display_data"
    }
   ],
   "source": [
    "plt.figure(figsize=(20,12))\n",
    "\n",
    "barplot = tacos_burritos_df_clean.groupby('year')['month'].value_counts().plot(kind='bar', color='seagreen')\n",
    "plt.xlabel('Month-Year')\n",
    "plt.ylabel('Count')\n",
    "plt.title('Month-wise count of restaurants added in each year')\n",
    "\n",
    "\n",
    "for i in barplot.patches:\n",
    "    barplot.text(i.get_x()+.05, i.get_height()+.75, \\\n",
    "                  str(round((i.get_height()), 2)), fontsize=12, color='dimgrey')"
   ]
  },
  {
   "cell_type": "markdown",
   "metadata": {},
   "source": [
    "We can clearly see interpret the top 5 months having highest restaurants added are as follows:\n",
    "\n",
    "1. 03-2016 : 19312 restaurants\n",
    "2. 10-2015 : 15609 restaurants\n",
    "3. 04-2016 : 11165 restaurants\n",
    "4. 11-2015 : 5238 restaurants\n",
    "5. 06-2016 : 4859 restaurants"
   ]
  },
  {
   "cell_type": "markdown",
   "metadata": {},
   "source": [
    "The conclusions assumed from this can be:\n",
    "\n",
    "10, 11 (2015) - 03, 04, 06 (2016) : So we can assume that towards the end of 2015 and till mid of 2015, more and more tacos & burritos restaurants were opened but then the sales went down since number of newly opened restaurants also went down."
   ]
  },
  {
   "cell_type": "markdown",
   "metadata": {},
   "source": [
    "#### 3. What are top 5 type of tacos consumed most?"
   ]
  },
  {
   "cell_type": "code",
   "execution_count": 37,
   "metadata": {},
   "outputs": [
    {
     "data": {
      "text/html": [
       "<div>\n",
       "<style scoped>\n",
       "    .dataframe tbody tr th:only-of-type {\n",
       "        vertical-align: middle;\n",
       "    }\n",
       "\n",
       "    .dataframe tbody tr th {\n",
       "        vertical-align: top;\n",
       "    }\n",
       "\n",
       "    .dataframe thead th {\n",
       "        text-align: right;\n",
       "    }\n",
       "</style>\n",
       "<table border=\"1\" class=\"dataframe\">\n",
       "  <thead>\n",
       "    <tr style=\"text-align: right;\">\n",
       "      <th></th>\n",
       "      <th>id</th>\n",
       "      <th>address</th>\n",
       "      <th>categories</th>\n",
       "      <th>city</th>\n",
       "      <th>country</th>\n",
       "      <th>menus.name</th>\n",
       "      <th>name</th>\n",
       "      <th>date</th>\n",
       "      <th>year</th>\n",
       "      <th>month</th>\n",
       "    </tr>\n",
       "  </thead>\n",
       "  <tbody>\n",
       "    <tr>\n",
       "      <th>2</th>\n",
       "      <td>AVwc__dF_7pvs4fz1Ncy</td>\n",
       "      <td>9521 Morton Davis Dr</td>\n",
       "      <td>Golf Course, American Restaurant, and Resort</td>\n",
       "      <td>Patterson</td>\n",
       "      <td>US</td>\n",
       "      <td>Smotherd Burrito</td>\n",
       "      <td>Diablo Grande Golf &amp; Country Club</td>\n",
       "      <td>2016-10-14</td>\n",
       "      <td>2016</td>\n",
       "      <td>10</td>\n",
       "    </tr>\n",
       "    <tr>\n",
       "      <th>3</th>\n",
       "      <td>AVwc__kCByjofQCxkdm-</td>\n",
       "      <td>10550 W I 25 Frontage Rd</td>\n",
       "      <td>Fast Food Restaurant</td>\n",
       "      <td>Longmont</td>\n",
       "      <td>US</td>\n",
       "      <td>Sausage Burrito</td>\n",
       "      <td>Mcdonald's</td>\n",
       "      <td>2016-09-09</td>\n",
       "      <td>2016</td>\n",
       "      <td>9</td>\n",
       "    </tr>\n",
       "    <tr>\n",
       "      <th>4</th>\n",
       "      <td>AVwc__WtByjofQCxkdkR</td>\n",
       "      <td>8495 W 3rd St</td>\n",
       "      <td>Mexican Restaurant Mid-City West,Mexican Resta...</td>\n",
       "      <td>Los Angeles</td>\n",
       "      <td>US</td>\n",
       "      <td>Wahoo Tacogrilled</td>\n",
       "      <td>Baja Fresh Mexican Grill</td>\n",
       "      <td>2016-05-19</td>\n",
       "      <td>2016</td>\n",
       "      <td>5</td>\n",
       "    </tr>\n",
       "    <tr>\n",
       "      <th>5</th>\n",
       "      <td>AVwc__WtByjofQCxkdkR</td>\n",
       "      <td>8495 W 3rd St</td>\n",
       "      <td>Mexican Restaurant Mid-City West,Mexican Resta...</td>\n",
       "      <td>Los Angeles</td>\n",
       "      <td>US</td>\n",
       "      <td>Wahoo Tacocrispy</td>\n",
       "      <td>Baja Fresh Mexican Grill</td>\n",
       "      <td>2016-05-19</td>\n",
       "      <td>2016</td>\n",
       "      <td>5</td>\n",
       "    </tr>\n",
       "    <tr>\n",
       "      <th>6</th>\n",
       "      <td>AVwc__WtByjofQCxkdkR</td>\n",
       "      <td>8495 W 3rd St</td>\n",
       "      <td>Mexican Restaurant Mid-City West,Mexican Resta...</td>\n",
       "      <td>Los Angeles</td>\n",
       "      <td>US</td>\n",
       "      <td>Taco Combo</td>\n",
       "      <td>Baja Fresh Mexican Grill</td>\n",
       "      <td>2016-05-19</td>\n",
       "      <td>2016</td>\n",
       "      <td>5</td>\n",
       "    </tr>\n",
       "  </tbody>\n",
       "</table>\n",
       "</div>"
      ],
      "text/plain": [
       "                     id                   address  \\\n",
       "2  AVwc__dF_7pvs4fz1Ncy      9521 Morton Davis Dr   \n",
       "3  AVwc__kCByjofQCxkdm-  10550 W I 25 Frontage Rd   \n",
       "4  AVwc__WtByjofQCxkdkR             8495 W 3rd St   \n",
       "5  AVwc__WtByjofQCxkdkR             8495 W 3rd St   \n",
       "6  AVwc__WtByjofQCxkdkR             8495 W 3rd St   \n",
       "\n",
       "                                          categories         city country  \\\n",
       "2       Golf Course, American Restaurant, and Resort    Patterson      US   \n",
       "3                               Fast Food Restaurant     Longmont      US   \n",
       "4  Mexican Restaurant Mid-City West,Mexican Resta...  Los Angeles      US   \n",
       "5  Mexican Restaurant Mid-City West,Mexican Resta...  Los Angeles      US   \n",
       "6  Mexican Restaurant Mid-City West,Mexican Resta...  Los Angeles      US   \n",
       "\n",
       "          menus.name                               name       date  year  \\\n",
       "2   Smotherd Burrito  Diablo Grande Golf & Country Club 2016-10-14  2016   \n",
       "3    Sausage Burrito                         Mcdonald's 2016-09-09  2016   \n",
       "4  Wahoo Tacogrilled           Baja Fresh Mexican Grill 2016-05-19  2016   \n",
       "5   Wahoo Tacocrispy           Baja Fresh Mexican Grill 2016-05-19  2016   \n",
       "6         Taco Combo           Baja Fresh Mexican Grill 2016-05-19  2016   \n",
       "\n",
       "   month  \n",
       "2     10  \n",
       "3      9  \n",
       "4      5  \n",
       "5      5  \n",
       "6      5  "
      ]
     },
     "execution_count": 37,
     "metadata": {},
     "output_type": "execute_result"
    }
   ],
   "source": [
    "tacos_burritos_df_clean.head()"
   ]
  },
  {
   "cell_type": "code",
   "execution_count": 38,
   "metadata": {},
   "outputs": [
    {
     "data": {
      "text/plain": [
       "Breakfast Burrito    2901\n",
       "Sausage Burrito      2443\n",
       "Taco                 2277\n",
       "Chicken Taco         1111\n",
       "Fish Tacos            923\n",
       "Name: menus.name, dtype: int64"
      ]
     },
     "execution_count": 38,
     "metadata": {},
     "output_type": "execute_result"
    }
   ],
   "source": [
    "tacos_burritos_df_clean['menus.name'].value_counts().head()"
   ]
  },
  {
   "cell_type": "code",
   "execution_count": 39,
   "metadata": {},
   "outputs": [
    {
     "data": {
      "image/png": "[encoded data removed]",
      "text/plain": [
       "<Figure size 720x360 with 1 Axes>"
      ]
     },
     "metadata": {},
     "output_type": "display_data"
    }
   ],
   "source": [
    "#Top 5 types of tacos & burritos consumed most\n",
    "plt.style.use('ggplot')\n",
    "\n",
    "plt.figure(figsize=(10,5))\n",
    "barplot = tacos_burritos_df_clean['menus.name'].value_counts().head().plot(kind='bar', color='grey')\n",
    "plt.xticks(rotation=0)\n",
    "plt.xlabel('Types of Tacos & Burritos')\n",
    "plt.ylabel('Count')\n",
    "plt.title('Top 5 types of tacos & burritos consumed most');\n",
    "\n",
    "for i in barplot.patches:\n",
    "    barplot.text(i.get_x()+.15, i.get_height()+.75, \\\n",
    "                  str(round((i.get_height()), 2)), fontsize=12, color='dimgrey')"
   ]
  },
  {
   "cell_type": "markdown",
   "metadata": {},
   "source": [
    "This analysis can be further broken down to see a detailed analysis on what type of tacos are consumed most in which cities"
   ]
  },
  {
   "cell_type": "code",
   "execution_count": 40,
   "metadata": {},
   "outputs": [
    {
     "data": {
      "text/plain": [
       "menus.name                                      city                  \n",
       "(1) Burrito                                     Chicago                   2\n",
       "(1) Cheese Enchilada, (1) Beef Crispy Taco      Dallas                    1\n",
       "(1) Cheese Enchiladas, Ground Beef Taco, Beans  Inglewood                 1\n",
       "                                                Redondo Beach             1\n",
       "(1) Crispy Taco                                 Dallas                    1\n",
       "(1) Famous Crispy Taco                          Cypress                   1\n",
       "(1) Soft Taco                                   Cypress                   1\n",
       "(1) Taco Dorado                                 Delano                    1\n",
       "(1) Taco Dorado De Pollo O Res                  Norwalk                   1\n",
       "(1) Taco, (1) Tostada, (1) Quesadilla           Chicago                   2\n",
       "(2) Baja Tacos                                  Diamond Bar               1\n",
       "(2) Beef Tacos                                  San Diego                 6\n",
       "                                                El Cajon                  2\n",
       "                                                Imperial Beach            1\n",
       "                                                La Jolla                  1\n",
       "                                                Spring Valley             1\n",
       "(2) Carne Asada Tacos                           San Diego                 6\n",
       "                                                El Cajon                  2\n",
       "                                                Imperial Beach            1\n",
       "                                                Spring Valley             1\n",
       "(2) Cheese Enchilada, Ground Beef Taco, Beans   Inglewood                 1\n",
       "(2) Chicken Tacos                               Oxnard                    1\n",
       "(2) Crispy Tacos                                Hayward                   1\n",
       "                                                Rancho Santa Margarita    1\n",
       "(2) Fish Tacos                                  San Diego                 6\n",
       "                                                El Cajon                  2\n",
       "                                                Bellingham                1\n",
       "                                                Imperial Beach            1\n",
       "                                                La Jolla                  1\n",
       "                                                Spring Valley             1\n",
       "                                                                         ..\n",
       "Zesty Turkey Taco                               Arcadia                   1\n",
       "                                                Aurora                    1\n",
       "                                                Beaverton                 1\n",
       "                                                Boynton Beach             1\n",
       "                                                Brea                      1\n",
       "                                                Escondido                 1\n",
       "                                                Kansas City               1\n",
       "                                                Largo                     1\n",
       "                                                Lombard                   1\n",
       "                                                Mountain View             1\n",
       "                                                Pasadena                  1\n",
       "                                                Peoria                    1\n",
       "                                                Phoenix                   1\n",
       "                                                Pleasant Hill             1\n",
       "                                                Rowland Heights           1\n",
       "                                                San Bernardino            1\n",
       "                                                San Diego                 1\n",
       "                                                Simi Valley               1\n",
       "                                                Torrance                  1\n",
       "                                                Tustin                    1\n",
       "                                                Vancouver                 1\n",
       "Zihuatanejo Shrimp Taco                         Austin                    1\n",
       "Zinc Lunch Burrito or Burrito Bowl              Los Angeles               2\n",
       "Zona Rosa Burrito                               San Francisco             2\n",
       "Zoolu Vegetarian Burrito                        Laguna Beach              1\n",
       "Zorro Burrito                                   Canoga Park               1\n",
       "Zucchini Burrito                                Brooklyn                  1\n",
       "                                                Columbus                  1\n",
       "Zucchini Fritters Burrito                       Boston                    1\n",
       "Zucchini Mushroom Tacos                         Long Beach                2\n",
       "Name: city, Length: 56120, dtype: int64"
      ]
     },
     "execution_count": 40,
     "metadata": {},
     "output_type": "execute_result"
    }
   ],
   "source": [
    "tacos_burritos_df_clean.groupby('menus.name')['city'].value_counts()"
   ]
  },
  {
   "cell_type": "code",
   "execution_count": 48,
   "metadata": {},
   "outputs": [
    {
     "data": {
      "text/plain": [
       "year  categories                                                                                                                                                                                         \n",
       "2014  Mexican Restaurant                                                                                                                                                                                     44\n",
       "      mexican restaurant                                                                                                                                                                                     35\n",
       "      Mexican Restaurant,Restaurant                                                                                                                                                                          25\n",
       "      Mexican Restaurant Camelback East,Mexican Restaurant                                                                                                                                                   23\n",
       "      Mexican Restaurant,Mexican                                                                                                                                                                             20\n",
       "      Mexican Restaurant,Taco Place,Mexican                                                                                                                                                                  16\n",
       "      Mexican Restaurant Upper East Side,mexican restaurant                                                                                                                                                  14\n",
       "      Mexican Restaurant,Fast Food Restaurant,Mexican                                                                                                                                                        14\n",
       "      Mexican Restaurant,Mexican Restaurant City Heights                                                                                                                                                     14\n",
       "      Restaurants,Latin American Restaurant,Mexican Restaurant                                                                                                                                               14\n",
       "      American Restaurant,Tex-Mex Restaurant,Tex-Mex Restaurant Downtown Norfolk                                                                                                                             13\n",
       "      Restaurants,Coeur D'alene Restaurants,Mexican Restaurant,Mexican Restaurants,Take Out Restaurants,Latin American Restaurants,Fast Food Restaurants,Caterers,Mexican & Latin American Grocery Stores    13\n",
       "      Mexican Restaurant Georgetown,Mexican Restaurant,Restaurant,Washington Washington                                                                                                                      12\n",
       "      New American Restaurant,Breakfast Spot                                                                                                                                                                 12\n",
       "      Mexican Restaurant,Seafood                                                                                                                                                                             11\n",
       "      Seafood Restaurant,Seafood                                                                                                                                                                             11\n",
       "      Mexican Restaurant,Bar                                                                                                                                                                                 10\n",
       "      Mexican Restaurant,Mexican Restaurant Downtown Indianapolis                                                                                                                                            10\n",
       "      Restaurants,Mexican Restaurant,Mexican Restaurant Crown Hill                                                                                                                                           10\n",
       "      Mexican Restaurant,Washington Washington,Latin American Restaurants,Mexican Restaurants,Family Style Restaurants,Restaurants                                                                            9\n",
       "      American Restaurant,Caf,Lounge,Restaurants,Certified Green Restaurant(r),Caf��,Café,American (traditional)                                                                                              8\n",
       "      Mexican Restaurant,Taco Place,restaurants,Mexican Restaurant and Taco Place Northwest Side                                                                                                              8\n",
       "      Restaurant                                                                                                                                                                                              8\n",
       "      Mexican Restaurant,Mexican Restaurant Cal Young,Mexican                                                                                                                                                 7\n",
       "      Mexican Restaurant,Mexican Restaurants,Latin American Restaurants,Restaurants                                                                                                                           7\n",
       "      Seafood Restaurant,Restaurant,American Restaurant,Californian                                                                                                                                           7\n",
       "      American Restaurant,Bars,American Restaurants,Caterers,Restaurants,Sports Bars,Night Clubs,Bar & Grills,Taverns                                                                                         6\n",
       "      Fast Food Restaurant,Troutdale Restaurants                                                                                                                                                              6\n",
       "      Mexican Restaurant,Latin American Restaurant,Mexican Restaurant and Latin American Restaurant Dupont Circle,Mexican Restaurant and Latin American Restaurant,Washington Washington                      6\n",
       "      mexican restaurant,Taco Place                                                                                                                                                                           6\n",
       "                                                                                                                                                                                                             ..\n",
       "2017  Mexican Restaurant,Mexican Restaurants,Latin American Restaurants,Breakfast Brunch & Lunch Restaurants,,Family Style Restaurants,Restaurants                                                            1\n",
       "      New American Restaurant,Cocktail Bar                                                                                                                                                                    1\n",
       "      Nightclub and Lounge,Lounge,Restaurant,Nightclub,Nightclub and Lounge Lower East Side                                                                                                                   1\n",
       "      Pizza Place,Restaurants,Pizza Restaurants,Food Truck and Moving Target Downtown Phoenix                                                                                                                 1\n",
       "      Restaurant Delivery Service,Restaurants,Italian Restaurants,Pizza                                                                                                                                       1\n",
       "      Restaurant,Bar,Dive Bar,Lounge                                                                                                                                                                          1\n",
       "      Restaurant,Bar,Sports Bar                                                                                                                                                                               1\n",
       "      Restaurant,Mexican Restaurant                                                                                                                                                                           1\n",
       "      Restaurant,Mexican Restaurant,Taco Place                                                                                                                                                                1\n",
       "      Restaurant,Restaurants,Bars & Pubs,Bar & Grill Restaurants,Taverns                                                                                                                                      1\n",
       "      Restaurant,Restaurants,Mexican Restaurants                                                                                                                                                              1\n",
       "      Restaurant,Thai Restaurant and Asian Restaurant,Thai Restaurants,Beverages Retail,Asian Restaurant,Thai Restaurant and Asian Restaurant East Village,Thai Restaurant                                    1\n",
       "      Restaurants,Breakfast & Brunch Restaurants,Cajun & Creole Restaurants,Lunch Restaurants                                                                                                                 1\n",
       "      Restaurants,Burger Restaurants,Take Out,Chicken Restaurants,Bar & Grill Restaurants                                                                                                                     1\n",
       "      Restaurants,French Restaurant Midtown East,restaurant,French Restaurant,French Restaurants                                                                                                              1\n",
       "      Restaurants,Lounges                                                                                                                                                                                     1\n",
       "      Seafood Restaurant                                                                                                                                                                                      1\n",
       "      Seafood Restaurant,American Restaurant,Restaurants,Grill Restaurants,Certified Green Restaurant(r)                                                                                                      1\n",
       "      Seafood Restaurant,Fast Food Restaurant                                                                                                                                                                 1\n",
       "      Steak & Seafood Restaurants,Restaurants,Fine Dining Restaurants,Steak Restaurants,Seafood Restaurants                                                                                                   1\n",
       "      Sushi Restaurant                                                                                                                                                                                        1\n",
       "      Sushi Restaurant, Chinese Restaurant, and Japanese Restaurant,Asian Restaurants,Caterers,Food & Beverage Delivery Services,Coffee & Tea Shops,Breakfast & Brunch Restaurants                            1\n",
       "      Taco Place,Mexican Restaurant,Restaurants,Ethnic Food Markets,Restaurant                                                                                                                                1\n",
       "      Take Out Restaurants,Bars,Restaurants,Pizza                                                                                                                                                             1\n",
       "      Take Out Restaurants,Caterers,Restaurants,Banquet Halls & Reception Facilities,Pizza                                                                                                                    1\n",
       "      Take Out Restaurants,Caterers,Restaurants,Pizza                                                                                                                                                         1\n",
       "      Take Out Restaurants,Sushi Restaurant Court Street Historic District,Sushi Bars,Asian Restaurants,Restaurant,Food and Beverage,Restaurants,Japanese Restaurants,Sushi Restaurant                        1\n",
       "      Vegetarian / Vegan Restaurant                                                                                                                                                                           1\n",
       "      Vegetarian / Vegan Restaurant,wich Place,Caf                                                                                                                                                            1\n",
       "      Wings Joint,Sports Bar,Fast Food Restaurant,Restaurant,Wings,Barbecue Restaurants                                                                                                                       1\n",
       "Name: categories, Length: 8782, dtype: int64"
      ]
     },
     "execution_count": 48,
     "metadata": {},
     "output_type": "execute_result"
    }
   ],
   "source": [
    "tacos_burritos_df_clean.groupby('year')['categories'].value_counts()"
   ]
  },
  {
   "cell_type": "code",
   "execution_count": null,
   "metadata": {},
   "outputs": [],
   "source": []
  }
 ],
 "metadata": {
  "kernelspec": {
   "display_name": "Python 3",
   "language": "python",
   "name": "python3"
  },
  "language_info": {
   "codemirror_mode": {
    "name": "ipython",
    "version": 3
   },
   "file_extension": ".py",
   "mimetype": "text/x-python",
   "name": "python",
   "nbconvert_exporter": "python",
   "pygments_lexer": "ipython3",
   "version": "3.7.3"
  }
 },
 "nbformat": 4,
 "nbformat_minor": 2
}
